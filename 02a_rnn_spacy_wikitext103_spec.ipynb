{
 "cells": [
  {
   "cell_type": "code",
   "execution_count": 1,
   "metadata": {},
   "outputs": [],
   "source": [
    "from fastai.vision.all import *\n",
    "from fastai.learner import *\n",
    "from fastai.data.all import *\n",
    "from fastai.callback.tracker import SaveModelCallback\n",
    "import pandas as pd\n",
    "import matplotlib.pyplot as plt\n",
    "from pathlib2 import Path\n",
    "import numpy as np\n",
    "import random\n",
    "from torch.nn import MSELoss\n",
    "from IPython.lib.display import Audio\n",
    "from python_speech_features.base import mfcc\n",
    "import librosa"
   ]
  },
  {
   "cell_type": "code",
   "execution_count": 2,
   "metadata": {},
   "outputs": [],
   "source": [
    "df_train = pd.read_csv('data/wikitext-103/train.csv', header=None)"
   ]
  },
  {
   "cell_type": "code",
   "execution_count": 3,
   "metadata": {},
   "outputs": [
    {
     "data": {
      "text/plain": [
       "(29539, 1)"
      ]
     },
     "execution_count": 3,
     "metadata": {},
     "output_type": "execute_result"
    }
   ],
   "source": [
    "df_train.shape"
   ]
  },
  {
   "cell_type": "code",
   "execution_count": 4,
   "metadata": {},
   "outputs": [],
   "source": [
    "texts = df_train[0].tolist()\n",
    "texts = texts[:2000]"
   ]
  },
  {
   "cell_type": "code",
   "execution_count": 5,
   "metadata": {},
   "outputs": [
    {
     "name": "stderr",
     "output_type": "stream",
     "text": [
      "/opt/conda/lib/python3.7/site-packages/sklearn/utils/deprecation.py:143: FutureWarning: The sklearn.datasets.base module is  deprecated in version 0.22 and will be removed in version 0.24. The corresponding classes / functions should instead be imported from sklearn.datasets. Anything that cannot be imported from sklearn.datasets is now part of the private API.\n",
      "  warnings.warn(message, FutureWarning)\n"
     ]
    }
   ],
   "source": [
    "import logging\n",
    "from six import iteritems\n",
    "from web.datasets.similarity import fetch_MEN, fetch_WS353, fetch_SimLex999\n",
    "from web.embeddings import fetch_GloVe\n",
    "from web.evaluate import evaluate_similarity\n",
    "from web.embedding import Embedding, Vocabulary\n",
    "from gensim.models import Word2Vec\n",
    "from gensim.models import KeyedVectors"
   ]
  },
  {
   "cell_type": "code",
   "execution_count": 6,
   "metadata": {},
   "outputs": [
    {
     "data": {
      "text/plain": [
       "37622"
      ]
     },
     "execution_count": 6,
     "metadata": {},
     "output_type": "execute_result"
    }
   ],
   "source": [
    "speech2vec = KeyedVectors.load_word2vec_format('../speech2vec-pretrained-vectors/speech2vec/50.vec', binary=False) \n",
    "\n",
    "vocab = set(speech2vec.vocab.keys())\n",
    "len(vocab)"
   ]
  },
  {
   "cell_type": "code",
   "execution_count": 7,
   "metadata": {},
   "outputs": [],
   "source": [
    "# mkdir -p data/audio"
   ]
  },
  {
   "cell_type": "code",
   "execution_count": 8,
   "metadata": {},
   "outputs": [],
   "source": [
    "# from time import sleep"
   ]
  },
  {
   "cell_type": "code",
   "execution_count": 9,
   "metadata": {},
   "outputs": [],
   "source": [
    "# %%time\n",
    "\n",
    "# from google.cloud import texttospeech\n",
    "\n",
    "# client = texttospeech.TextToSpeechClient()\n",
    "\n",
    "# for i, word in enumerate(vocab):\n",
    "#     if i % 300 == 0: sleep(60)\n",
    "\n",
    "#     synthesis_input = texttospeech.SynthesisInput(text=word)\n",
    "\n",
    "#     voice = texttospeech.VoiceSelectionParams(\n",
    "#         language_code=\"en-US\", ssml_gender=texttospeech.SsmlVoiceGender.NEUTRAL\n",
    "#     )\n",
    "\n",
    "#     audio_config = texttospeech.AudioConfig(\n",
    "#         audio_encoding=texttospeech.AudioEncoding.MP3\n",
    "#     )\n",
    "\n",
    "#     response = client.synthesize_speech(\n",
    "#         input=synthesis_input, voice=voice, audio_config=audio_config\n",
    "#     )\n",
    "\n",
    "#     # The response's audio_content is binary.\n",
    "#     with open(f\"data/audio/{word}.mp3\", \"wb\") as out:\n",
    "#         out.write(response.audio_content)"
   ]
  },
  {
   "cell_type": "code",
   "execution_count": 10,
   "metadata": {},
   "outputs": [],
   "source": [
    "word2ary = pd.read_pickle('word2ary.pkl')"
   ]
  },
  {
   "cell_type": "code",
   "execution_count": 11,
   "metadata": {},
   "outputs": [],
   "source": [
    "SAMPLE_RATE = 16000\n",
    "\n",
    "def audio_to_spec(audio):\n",
    "    f, t, spec = scipy.signal.spectrogram(audio, fs=SAMPLE_RATE)#, nperseg=360)\n",
    "    spec = np.log10(spec.clip(1e-10))\n",
    "    return spec[10:100].T\n",
    "    spec = librosa.power_to_db(\n",
    "#         librosa.feature.melspectrogram(audio, sr=SAMPLE_RATE, fmin=20, fmax=16000, n_mels=224, hop_length=360)\n",
    "        librosa.feature.melspectrogram(audio, sr=SAMPLE_RATE, fmin=20, fmax=16000, n_mels=128)\n",
    "#         librosa.feature.melspectrogram(audio, sr=SAMPLE_RATE, hop_length=1255, fmin=20, fmax=16000)\n",
    "    )\n",
    "    return spec"
   ]
  },
  {
   "cell_type": "code",
   "execution_count": 12,
   "metadata": {},
   "outputs": [
    {
     "name": "stdout",
     "output_type": "stream",
     "text": [
      "CPU times: user 21.6 s, sys: 620 ms, total: 22.2 s\n",
      "Wall time: 22.2 s\n"
     ]
    }
   ],
   "source": [
    "%%time\n",
    "\n",
    "word2features = {}\n",
    "for k, v in word2ary.items():\n",
    "    word2features[k] = audio_to_spec(v)"
   ]
  },
  {
   "cell_type": "code",
   "execution_count": 13,
   "metadata": {},
   "outputs": [],
   "source": [
    "from joblib import Parallel, delayed\n",
    "from functools import partial\n",
    "from spacy.util import minibatch\n",
    "import spacy\n",
    "from spacy.attrs import ORTH, LEMMA\n",
    "\n",
    "nlp = spacy.load(\"en_core_web_sm\")\n",
    "\n",
    "nlp.tokenizer.add_special_case('<unk>', [{ORTH: \"<unk>\"}])\n",
    "nlp.tokenizer.add_special_case('<eos>', [{ORTH: \"<eos>\"}])\n",
    "\n",
    "batch_size= 200\n",
    "partitions = minibatch(texts, size=batch_size)\n",
    "\n",
    "executor = Parallel(n_jobs=10, backend=\"multiprocessing\", prefer=\"threads\")\n",
    "\n",
    "def transform_texts(nlp, vocab, text):\n",
    "    docs = nlp.tokenizer.pipe(text)\n",
    "    word_pairs = []\n",
    "    \n",
    "    for doc in docs:\n",
    "        words = [token.text.lower() for token in doc if token.is_alpha]\n",
    "        words = [w if w in vocab else '<UNK>' for w in words]\n",
    "        \n",
    "        for i, word in enumerate(words):\n",
    "            if word == '<UNK>': continue\n",
    "            for offset in [-2, -1, 1, 2]:\n",
    "                if i + offset < 0 or i + offset >= len(words): continue\n",
    "                target_word = words[i+offset]\n",
    "                if target_word == '<UNK>': continue\n",
    "                word_pairs.append([word, target_word])\n",
    "                 \n",
    "    return word_pairs"
   ]
  },
  {
   "cell_type": "code",
   "execution_count": 14,
   "metadata": {},
   "outputs": [
    {
     "name": "stdout",
     "output_type": "stream",
     "text": [
      "CPU times: user 17.4 s, sys: 3.9 s, total: 21.3 s\n",
      "Wall time: 26.2 s\n"
     ]
    }
   ],
   "source": [
    "%%time\n",
    "\n",
    "do = delayed(partial(transform_texts, nlp, vocab))\n",
    "tasks = (do(batch) for batch in partitions)\n",
    "word_pairs_hierarchical = executor(tasks)"
   ]
  },
  {
   "cell_type": "code",
   "execution_count": 15,
   "metadata": {},
   "outputs": [],
   "source": [
    "word_pairs = []\n",
    "\n",
    "for pairs in word_pairs_hierarchical: word_pairs += pairs"
   ]
  },
  {
   "cell_type": "code",
   "execution_count": 16,
   "metadata": {},
   "outputs": [
    {
     "data": {
      "text/plain": [
       "[['is', 'a'],\n",
       " ['a', 'is'],\n",
       " ['a', 'genus'],\n",
       " ['genus', 'a'],\n",
       " ['genus', 'in'],\n",
       " ['genus', 'the'],\n",
       " ['in', 'genus'],\n",
       " ['in', 'the'],\n",
       " ['in', 'family'],\n",
       " ['the', 'genus']]"
      ]
     },
     "execution_count": 16,
     "metadata": {},
     "output_type": "execute_result"
    }
   ],
   "source": [
    "word_pairs[:10]"
   ]
  },
  {
   "cell_type": "code",
   "execution_count": 17,
   "metadata": {},
   "outputs": [
    {
     "data": {
      "text/plain": [
       "18441070"
      ]
     },
     "execution_count": 17,
     "metadata": {},
     "output_type": "execute_result"
    }
   ],
   "source": [
    "len(word_pairs)"
   ]
  },
  {
   "cell_type": "code",
   "execution_count": 18,
   "metadata": {},
   "outputs": [
    {
     "data": {
      "text/plain": [
       "18441070"
      ]
     },
     "execution_count": 18,
     "metadata": {},
     "output_type": "execute_result"
    }
   ],
   "source": [
    "len(word_pairs)"
   ]
  },
  {
   "cell_type": "code",
   "execution_count": 19,
   "metadata": {},
   "outputs": [],
   "source": [
    "vocab = list(vocab)\n",
    "word2index = {w: i for i, w in enumerate(vocab)}"
   ]
  },
  {
   "cell_type": "code",
   "execution_count": 20,
   "metadata": {},
   "outputs": [],
   "source": [
    "features = []\n",
    "\n",
    "for k, v in word2features.items():\n",
    "    features.append(v)"
   ]
  },
  {
   "cell_type": "code",
   "execution_count": 21,
   "metadata": {},
   "outputs": [
    {
     "data": {
      "text/plain": [
       "155"
      ]
     },
     "execution_count": 21,
     "metadata": {},
     "output_type": "execute_result"
    }
   ],
   "source": [
    "max(f.shape[0] for f in features)"
   ]
  },
  {
   "cell_type": "code",
   "execution_count": 22,
   "metadata": {},
   "outputs": [],
   "source": [
    "def prepare_features(word, pad_to=max(f.shape[0] for f in features), pad_left=False):\n",
    "    ary = word2features[word][:pad_to]\n",
    "    example = np.zeros((pad_to, 90))\n",
    "    if pad_left:\n",
    "        example[-ary.shape[0]:, :] = ary\n",
    "    else: example[:ary.shape[0], :] = ary\n",
    "    return example.astype(np.float32)"
   ]
  },
  {
   "cell_type": "code",
   "execution_count": 23,
   "metadata": {},
   "outputs": [],
   "source": [
    "dataset_mean = np.concatenate(features).mean()\n",
    "dataset_std = np.concatenate(features).std()\n",
    "\n",
    "def normalize_data(ary):\n",
    "    return (ary - dataset_mean) / dataset_std"
   ]
  },
  {
   "cell_type": "code",
   "execution_count": 24,
   "metadata": {},
   "outputs": [],
   "source": [
    "fn2features = {}\n",
    "for word in vocab:\n",
    "    fn2features[word] = normalize_data(prepare_features(word))"
   ]
  },
  {
   "cell_type": "code",
   "execution_count": 25,
   "metadata": {},
   "outputs": [],
   "source": [
    "class Dataset():\n",
    "    def __init__(self, pairs, length=10_000_000):\n",
    "        self.pairs = pairs\n",
    "        self.len = length\n",
    "    def __len__(self):\n",
    "        return self.len\n",
    "    def __getitem__(self, idx):\n",
    "        source_word, target_word = self.pairs[np.random.randint(len(self.pairs))]\n",
    "        return fn2features[source_word], word2index[target_word]"
   ]
  },
  {
   "cell_type": "code",
   "execution_count": 26,
   "metadata": {},
   "outputs": [],
   "source": [
    "# 14 mln -> 180 mln"
   ]
  },
  {
   "cell_type": "code",
   "execution_count": 27,
   "metadata": {},
   "outputs": [
    {
     "data": {
      "text/plain": [
       "18441070"
      ]
     },
     "execution_count": 27,
     "metadata": {},
     "output_type": "execute_result"
    }
   ],
   "source": [
    "len(word_pairs)"
   ]
  },
  {
   "cell_type": "code",
   "execution_count": 28,
   "metadata": {},
   "outputs": [],
   "source": [
    "train_ds = Dataset(word_pairs)\n",
    "valid_ds = Dataset(word_pairs, 1_000_000)"
   ]
  },
  {
   "cell_type": "code",
   "execution_count": 29,
   "metadata": {},
   "outputs": [
    {
     "data": {
      "text/plain": [
       "(10000000, 1000000)"
      ]
     },
     "execution_count": 29,
     "metadata": {},
     "output_type": "execute_result"
    }
   ],
   "source": [
    "len(train_ds), len(valid_ds)"
   ]
  },
  {
   "cell_type": "code",
   "execution_count": 30,
   "metadata": {},
   "outputs": [],
   "source": [
    "BS = 2048\n",
    "NUM_WORKERS = 8\n",
    "\n",
    "train_dl = DataLoader(train_ds, BS, NUM_WORKERS, shuffle=True)\n",
    "valid_dl = DataLoader(valid_ds, BS, NUM_WORKERS)\n",
    "\n",
    "dls = DataLoaders(train_dl, valid_dl)"
   ]
  },
  {
   "cell_type": "code",
   "execution_count": 31,
   "metadata": {},
   "outputs": [],
   "source": [
    "class Model(Module):\n",
    "    def __init__(self, hidden_size=25):\n",
    "        self.return_embeddings = False\n",
    "        self.hidden_size = hidden_size\n",
    "        \n",
    "        self.encoder= nn.LSTM(\n",
    "            input_size=90,\n",
    "            hidden_size=hidden_size,\n",
    "            num_layers=3,\n",
    "            batch_first=True,\n",
    "            dropout=0,\n",
    "            bidirectional=True\n",
    "        )\n",
    "        \n",
    "        self.linear = nn.Linear(2*hidden_size, len(vocab))\n",
    "            \n",
    "    def forward(self, source_features):\n",
    "        _, (embeddings, _) = self.encoder(source_features)        \n",
    "        embeddings = torch.cat((embeddings[-1], embeddings[-2]), 1)\n",
    "        \n",
    "        if self.return_embeddings: return embeddings\n",
    "\n",
    "        return self.linear(embeddings)"
   ]
  },
  {
   "cell_type": "code",
   "execution_count": 32,
   "metadata": {},
   "outputs": [],
   "source": [
    "learn = Learner(\n",
    "    dls.cuda(),\n",
    "    Model().cuda(),\n",
    "    loss_func=CrossEntropyLossFlat(),\n",
    "    opt_func=Adam,\n",
    "    metrics=[accuracy]\n",
    ")"
   ]
  },
  {
   "cell_type": "code",
   "execution_count": 33,
   "metadata": {},
   "outputs": [
    {
     "data": {
      "text/html": [
       "<table border=\"1\" class=\"dataframe\">\n",
       "  <thead>\n",
       "    <tr style=\"text-align: left;\">\n",
       "      <th>epoch</th>\n",
       "      <th>train_loss</th>\n",
       "      <th>valid_loss</th>\n",
       "      <th>accuracy</th>\n",
       "      <th>time</th>\n",
       "    </tr>\n",
       "  </thead>\n",
       "  <tbody>\n",
       "    <tr>\n",
       "      <td>0</td>\n",
       "      <td>6.932520</td>\n",
       "      <td>6.935555</td>\n",
       "      <td>0.094152</td>\n",
       "      <td>11:35</td>\n",
       "    </tr>\n",
       "    <tr>\n",
       "      <td>1</td>\n",
       "      <td>6.888471</td>\n",
       "      <td>6.893290</td>\n",
       "      <td>0.095840</td>\n",
       "      <td>11:35</td>\n",
       "    </tr>\n",
       "    <tr>\n",
       "      <td>2</td>\n",
       "      <td>6.854970</td>\n",
       "      <td>6.863441</td>\n",
       "      <td>0.096903</td>\n",
       "      <td>11:36</td>\n",
       "    </tr>\n",
       "    <tr>\n",
       "      <td>3</td>\n",
       "      <td>6.849358</td>\n",
       "      <td>6.846374</td>\n",
       "      <td>0.096313</td>\n",
       "      <td>11:34</td>\n",
       "    </tr>\n",
       "    <tr>\n",
       "      <td>4</td>\n",
       "      <td>6.835235</td>\n",
       "      <td>6.836201</td>\n",
       "      <td>0.096961</td>\n",
       "      <td>11:34</td>\n",
       "    </tr>\n",
       "    <tr>\n",
       "      <td>5</td>\n",
       "      <td>6.823748</td>\n",
       "      <td>6.821783</td>\n",
       "      <td>0.097352</td>\n",
       "      <td>11:35</td>\n",
       "    </tr>\n",
       "    <tr>\n",
       "      <td>6</td>\n",
       "      <td>6.823327</td>\n",
       "      <td>6.812018</td>\n",
       "      <td>0.097267</td>\n",
       "      <td>11:34</td>\n",
       "    </tr>\n",
       "    <tr>\n",
       "      <td>7</td>\n",
       "      <td>6.804551</td>\n",
       "      <td>6.802811</td>\n",
       "      <td>0.097990</td>\n",
       "      <td>11:33</td>\n",
       "    </tr>\n",
       "    <tr>\n",
       "      <td>8</td>\n",
       "      <td>6.808207</td>\n",
       "      <td>6.794943</td>\n",
       "      <td>0.097674</td>\n",
       "      <td>11:32</td>\n",
       "    </tr>\n",
       "    <tr>\n",
       "      <td>9</td>\n",
       "      <td>6.803380</td>\n",
       "      <td>6.793743</td>\n",
       "      <td>0.097508</td>\n",
       "      <td>11:34</td>\n",
       "    </tr>\n",
       "    <tr>\n",
       "      <td>10</td>\n",
       "      <td>6.788463</td>\n",
       "      <td>6.792137</td>\n",
       "      <td>0.097623</td>\n",
       "      <td>11:34</td>\n",
       "    </tr>\n",
       "    <tr>\n",
       "      <td>11</td>\n",
       "      <td>6.780608</td>\n",
       "      <td>6.781083</td>\n",
       "      <td>0.098097</td>\n",
       "      <td>11:39</td>\n",
       "    </tr>\n",
       "    <tr>\n",
       "      <td>12</td>\n",
       "      <td>6.780528</td>\n",
       "      <td>6.776615</td>\n",
       "      <td>0.098284</td>\n",
       "      <td>11:39</td>\n",
       "    </tr>\n",
       "    <tr>\n",
       "      <td>13</td>\n",
       "      <td>6.778561</td>\n",
       "      <td>6.779403</td>\n",
       "      <td>0.097588</td>\n",
       "      <td>11:35</td>\n",
       "    </tr>\n",
       "    <tr>\n",
       "      <td>14</td>\n",
       "      <td>6.786719</td>\n",
       "      <td>6.775402</td>\n",
       "      <td>0.097507</td>\n",
       "      <td>11:35</td>\n",
       "    </tr>\n",
       "    <tr>\n",
       "      <td>15</td>\n",
       "      <td>6.769154</td>\n",
       "      <td>6.776482</td>\n",
       "      <td>0.097395</td>\n",
       "      <td>11:35</td>\n",
       "    </tr>\n",
       "    <tr>\n",
       "      <td>16</td>\n",
       "      <td>6.768485</td>\n",
       "      <td>6.766014</td>\n",
       "      <td>0.097987</td>\n",
       "      <td>11:34</td>\n",
       "    </tr>\n",
       "    <tr>\n",
       "      <td>17</td>\n",
       "      <td>6.772653</td>\n",
       "      <td>6.764089</td>\n",
       "      <td>0.097657</td>\n",
       "      <td>11:34</td>\n",
       "    </tr>\n",
       "    <tr>\n",
       "      <td>18</td>\n",
       "      <td>6.749450</td>\n",
       "      <td>6.773117</td>\n",
       "      <td>0.097470</td>\n",
       "      <td>11:34</td>\n",
       "    </tr>\n",
       "    <tr>\n",
       "      <td>19</td>\n",
       "      <td>6.772224</td>\n",
       "      <td>6.765487</td>\n",
       "      <td>0.097501</td>\n",
       "      <td>11:33</td>\n",
       "    </tr>\n",
       "    <tr>\n",
       "      <td>20</td>\n",
       "      <td>6.775717</td>\n",
       "      <td>6.770425</td>\n",
       "      <td>0.097256</td>\n",
       "      <td>11:36</td>\n",
       "    </tr>\n",
       "    <tr>\n",
       "      <td>21</td>\n",
       "      <td>6.764843</td>\n",
       "      <td>6.760496</td>\n",
       "      <td>0.097896</td>\n",
       "      <td>11:36</td>\n",
       "    </tr>\n",
       "    <tr>\n",
       "      <td>22</td>\n",
       "      <td>6.761556</td>\n",
       "      <td>6.756197</td>\n",
       "      <td>0.098036</td>\n",
       "      <td>11:36</td>\n",
       "    </tr>\n",
       "    <tr>\n",
       "      <td>23</td>\n",
       "      <td>6.765841</td>\n",
       "      <td>6.758107</td>\n",
       "      <td>0.098047</td>\n",
       "      <td>11:34</td>\n",
       "    </tr>\n",
       "    <tr>\n",
       "      <td>24</td>\n",
       "      <td>6.756263</td>\n",
       "      <td>6.759020</td>\n",
       "      <td>0.097894</td>\n",
       "      <td>11:35</td>\n",
       "    </tr>\n",
       "    <tr>\n",
       "      <td>25</td>\n",
       "      <td>6.755969</td>\n",
       "      <td>6.757759</td>\n",
       "      <td>0.097642</td>\n",
       "      <td>11:30</td>\n",
       "    </tr>\n",
       "    <tr>\n",
       "      <td>26</td>\n",
       "      <td>6.764309</td>\n",
       "      <td>6.766229</td>\n",
       "      <td>0.097557</td>\n",
       "      <td>11:44</td>\n",
       "    </tr>\n",
       "    <tr>\n",
       "      <td>27</td>\n",
       "      <td>6.746200</td>\n",
       "      <td>6.758292</td>\n",
       "      <td>0.097947</td>\n",
       "      <td>11:44</td>\n",
       "    </tr>\n",
       "    <tr>\n",
       "      <td>28</td>\n",
       "      <td>6.758583</td>\n",
       "      <td>6.752354</td>\n",
       "      <td>0.098481</td>\n",
       "      <td>11:41</td>\n",
       "    </tr>\n",
       "    <tr>\n",
       "      <td>29</td>\n",
       "      <td>6.739727</td>\n",
       "      <td>6.749059</td>\n",
       "      <td>0.098315</td>\n",
       "      <td>11:51</td>\n",
       "    </tr>\n",
       "    <tr>\n",
       "      <td>30</td>\n",
       "      <td>6.747636</td>\n",
       "      <td>6.750079</td>\n",
       "      <td>0.097704</td>\n",
       "      <td>11:46</td>\n",
       "    </tr>\n",
       "    <tr>\n",
       "      <td>31</td>\n",
       "      <td>6.767912</td>\n",
       "      <td>6.748539</td>\n",
       "      <td>0.098389</td>\n",
       "      <td>11:48</td>\n",
       "    </tr>\n",
       "    <tr>\n",
       "      <td>32</td>\n",
       "      <td>6.743858</td>\n",
       "      <td>6.748840</td>\n",
       "      <td>0.097771</td>\n",
       "      <td>11:49</td>\n",
       "    </tr>\n",
       "    <tr>\n",
       "      <td>33</td>\n",
       "      <td>6.741860</td>\n",
       "      <td>6.742044</td>\n",
       "      <td>0.098541</td>\n",
       "      <td>11:51</td>\n",
       "    </tr>\n",
       "    <tr>\n",
       "      <td>34</td>\n",
       "      <td>6.734061</td>\n",
       "      <td>6.747488</td>\n",
       "      <td>0.098578</td>\n",
       "      <td>11:41</td>\n",
       "    </tr>\n",
       "    <tr>\n",
       "      <td>35</td>\n",
       "      <td>6.737804</td>\n",
       "      <td>6.746786</td>\n",
       "      <td>0.098921</td>\n",
       "      <td>11:42</td>\n",
       "    </tr>\n",
       "    <tr>\n",
       "      <td>36</td>\n",
       "      <td>6.746954</td>\n",
       "      <td>6.742561</td>\n",
       "      <td>0.098155</td>\n",
       "      <td>11:44</td>\n",
       "    </tr>\n",
       "    <tr>\n",
       "      <td>37</td>\n",
       "      <td>6.749112</td>\n",
       "      <td>6.742377</td>\n",
       "      <td>0.098585</td>\n",
       "      <td>11:44</td>\n",
       "    </tr>\n",
       "    <tr>\n",
       "      <td>38</td>\n",
       "      <td>6.741895</td>\n",
       "      <td>6.739891</td>\n",
       "      <td>0.097790</td>\n",
       "      <td>11:43</td>\n",
       "    </tr>\n",
       "    <tr>\n",
       "      <td>39</td>\n",
       "      <td>6.736873</td>\n",
       "      <td>6.739872</td>\n",
       "      <td>0.098083</td>\n",
       "      <td>11:42</td>\n",
       "    </tr>\n",
       "    <tr>\n",
       "      <td>40</td>\n",
       "      <td>6.726790</td>\n",
       "      <td>6.736025</td>\n",
       "      <td>0.098904</td>\n",
       "      <td>11:39</td>\n",
       "    </tr>\n",
       "    <tr>\n",
       "      <td>41</td>\n",
       "      <td>6.744344</td>\n",
       "      <td>6.733075</td>\n",
       "      <td>0.098495</td>\n",
       "      <td>11:37</td>\n",
       "    </tr>\n",
       "    <tr>\n",
       "      <td>42</td>\n",
       "      <td>6.726522</td>\n",
       "      <td>6.736481</td>\n",
       "      <td>0.098574</td>\n",
       "      <td>11:37</td>\n",
       "    </tr>\n",
       "    <tr>\n",
       "      <td>43</td>\n",
       "      <td>6.735545</td>\n",
       "      <td>6.732143</td>\n",
       "      <td>0.098905</td>\n",
       "      <td>11:38</td>\n",
       "    </tr>\n",
       "    <tr>\n",
       "      <td>44</td>\n",
       "      <td>6.719336</td>\n",
       "      <td>6.736372</td>\n",
       "      <td>0.098005</td>\n",
       "      <td>11:37</td>\n",
       "    </tr>\n",
       "    <tr>\n",
       "      <td>45</td>\n",
       "      <td>6.728365</td>\n",
       "      <td>6.732464</td>\n",
       "      <td>0.098358</td>\n",
       "      <td>11:41</td>\n",
       "    </tr>\n",
       "    <tr>\n",
       "      <td>46</td>\n",
       "      <td>6.727263</td>\n",
       "      <td>6.727840</td>\n",
       "      <td>0.098293</td>\n",
       "      <td>11:38</td>\n",
       "    </tr>\n",
       "    <tr>\n",
       "      <td>47</td>\n",
       "      <td>6.729787</td>\n",
       "      <td>6.736483</td>\n",
       "      <td>0.097817</td>\n",
       "      <td>11:39</td>\n",
       "    </tr>\n",
       "    <tr>\n",
       "      <td>48</td>\n",
       "      <td>6.730904</td>\n",
       "      <td>6.731863</td>\n",
       "      <td>0.098600</td>\n",
       "      <td>11:40</td>\n",
       "    </tr>\n",
       "    <tr>\n",
       "      <td>49</td>\n",
       "      <td>6.727291</td>\n",
       "      <td>6.728088</td>\n",
       "      <td>0.098710</td>\n",
       "      <td>11:34</td>\n",
       "    </tr>\n",
       "    <tr>\n",
       "      <td>50</td>\n",
       "      <td>6.740599</td>\n",
       "      <td>6.726965</td>\n",
       "      <td>0.098336</td>\n",
       "      <td>11:27</td>\n",
       "    </tr>\n",
       "    <tr>\n",
       "      <td>51</td>\n",
       "      <td>6.735195</td>\n",
       "      <td>6.723128</td>\n",
       "      <td>0.099148</td>\n",
       "      <td>11:24</td>\n",
       "    </tr>\n",
       "    <tr>\n",
       "      <td>52</td>\n",
       "      <td>6.730174</td>\n",
       "      <td>6.727301</td>\n",
       "      <td>0.098632</td>\n",
       "      <td>11:35</td>\n",
       "    </tr>\n",
       "    <tr>\n",
       "      <td>53</td>\n",
       "      <td>6.733843</td>\n",
       "      <td>6.723759</td>\n",
       "      <td>0.098452</td>\n",
       "      <td>11:34</td>\n",
       "    </tr>\n",
       "    <tr>\n",
       "      <td>54</td>\n",
       "      <td>6.722220</td>\n",
       "      <td>6.726471</td>\n",
       "      <td>0.098173</td>\n",
       "      <td>11:27</td>\n",
       "    </tr>\n",
       "    <tr>\n",
       "      <td>55</td>\n",
       "      <td>6.721390</td>\n",
       "      <td>6.732336</td>\n",
       "      <td>0.097903</td>\n",
       "      <td>11:30</td>\n",
       "    </tr>\n",
       "    <tr>\n",
       "      <td>56</td>\n",
       "      <td>6.725743</td>\n",
       "      <td>6.726742</td>\n",
       "      <td>0.097943</td>\n",
       "      <td>11:23</td>\n",
       "    </tr>\n",
       "    <tr>\n",
       "      <td>57</td>\n",
       "      <td>6.716660</td>\n",
       "      <td>6.726186</td>\n",
       "      <td>0.098407</td>\n",
       "      <td>11:44</td>\n",
       "    </tr>\n",
       "    <tr>\n",
       "      <td>58</td>\n",
       "      <td>6.725584</td>\n",
       "      <td>6.721332</td>\n",
       "      <td>0.098863</td>\n",
       "      <td>11:48</td>\n",
       "    </tr>\n",
       "    <tr>\n",
       "      <td>59</td>\n",
       "      <td>6.726845</td>\n",
       "      <td>6.721571</td>\n",
       "      <td>0.098515</td>\n",
       "      <td>11:41</td>\n",
       "    </tr>\n",
       "    <tr>\n",
       "      <td>60</td>\n",
       "      <td>6.723654</td>\n",
       "      <td>6.720761</td>\n",
       "      <td>0.098863</td>\n",
       "      <td>11:40</td>\n",
       "    </tr>\n",
       "    <tr>\n",
       "      <td>61</td>\n",
       "      <td>6.720410</td>\n",
       "      <td>6.725514</td>\n",
       "      <td>0.098571</td>\n",
       "      <td>11:34</td>\n",
       "    </tr>\n",
       "    <tr>\n",
       "      <td>62</td>\n",
       "      <td>6.729940</td>\n",
       "      <td>6.724699</td>\n",
       "      <td>0.098185</td>\n",
       "      <td>11:27</td>\n",
       "    </tr>\n",
       "    <tr>\n",
       "      <td>63</td>\n",
       "      <td>6.716588</td>\n",
       "      <td>6.718497</td>\n",
       "      <td>0.099015</td>\n",
       "      <td>11:26</td>\n",
       "    </tr>\n",
       "    <tr>\n",
       "      <td>64</td>\n",
       "      <td>6.725656</td>\n",
       "      <td>6.783796</td>\n",
       "      <td>0.096920</td>\n",
       "      <td>11:24</td>\n",
       "    </tr>\n",
       "    <tr>\n",
       "      <td>65</td>\n",
       "      <td>6.722355</td>\n",
       "      <td>6.722536</td>\n",
       "      <td>0.098877</td>\n",
       "      <td>11:26</td>\n",
       "    </tr>\n",
       "    <tr>\n",
       "      <td>66</td>\n",
       "      <td>6.726385</td>\n",
       "      <td>6.719967</td>\n",
       "      <td>0.098870</td>\n",
       "      <td>11:29</td>\n",
       "    </tr>\n",
       "    <tr>\n",
       "      <td>67</td>\n",
       "      <td>6.715254</td>\n",
       "      <td>6.713105</td>\n",
       "      <td>0.098874</td>\n",
       "      <td>11:28</td>\n",
       "    </tr>\n",
       "    <tr>\n",
       "      <td>68</td>\n",
       "      <td>6.713314</td>\n",
       "      <td>6.717456</td>\n",
       "      <td>0.098741</td>\n",
       "      <td>11:27</td>\n",
       "    </tr>\n",
       "    <tr>\n",
       "      <td>69</td>\n",
       "      <td>6.732337</td>\n",
       "      <td>6.732457</td>\n",
       "      <td>0.098332</td>\n",
       "      <td>11:27</td>\n",
       "    </tr>\n",
       "    <tr>\n",
       "      <td>70</td>\n",
       "      <td>6.713326</td>\n",
       "      <td>6.715087</td>\n",
       "      <td>0.099259</td>\n",
       "      <td>11:28</td>\n",
       "    </tr>\n",
       "    <tr>\n",
       "      <td>71</td>\n",
       "      <td>6.718836</td>\n",
       "      <td>6.719411</td>\n",
       "      <td>0.098556</td>\n",
       "      <td>11:28</td>\n",
       "    </tr>\n",
       "    <tr>\n",
       "      <td>72</td>\n",
       "      <td>6.707809</td>\n",
       "      <td>6.720122</td>\n",
       "      <td>0.098069</td>\n",
       "      <td>11:28</td>\n",
       "    </tr>\n",
       "    <tr>\n",
       "      <td>73</td>\n",
       "      <td>6.722353</td>\n",
       "      <td>6.722435</td>\n",
       "      <td>0.098818</td>\n",
       "      <td>11:28</td>\n",
       "    </tr>\n",
       "    <tr>\n",
       "      <td>74</td>\n",
       "      <td>6.709846</td>\n",
       "      <td>6.717856</td>\n",
       "      <td>0.098809</td>\n",
       "      <td>11:42</td>\n",
       "    </tr>\n",
       "    <tr>\n",
       "      <td>75</td>\n",
       "      <td>6.720128</td>\n",
       "      <td>6.713192</td>\n",
       "      <td>0.099200</td>\n",
       "      <td>11:54</td>\n",
       "    </tr>\n",
       "    <tr>\n",
       "      <td>76</td>\n",
       "      <td>6.718256</td>\n",
       "      <td>6.720899</td>\n",
       "      <td>0.097941</td>\n",
       "      <td>11:48</td>\n",
       "    </tr>\n",
       "    <tr>\n",
       "      <td>77</td>\n",
       "      <td>6.722522</td>\n",
       "      <td>6.722878</td>\n",
       "      <td>0.098244</td>\n",
       "      <td>11:48</td>\n",
       "    </tr>\n",
       "    <tr>\n",
       "      <td>78</td>\n",
       "      <td>6.716048</td>\n",
       "      <td>6.718272</td>\n",
       "      <td>0.098328</td>\n",
       "      <td>11:51</td>\n",
       "    </tr>\n",
       "    <tr>\n",
       "      <td>79</td>\n",
       "      <td>6.717943</td>\n",
       "      <td>6.716679</td>\n",
       "      <td>0.098380</td>\n",
       "      <td>11:52</td>\n",
       "    </tr>\n",
       "    <tr>\n",
       "      <td>80</td>\n",
       "      <td>6.707885</td>\n",
       "      <td>6.713239</td>\n",
       "      <td>0.098612</td>\n",
       "      <td>11:48</td>\n",
       "    </tr>\n",
       "    <tr>\n",
       "      <td>81</td>\n",
       "      <td>6.720417</td>\n",
       "      <td>6.711720</td>\n",
       "      <td>0.098956</td>\n",
       "      <td>11:51</td>\n",
       "    </tr>\n",
       "    <tr>\n",
       "      <td>82</td>\n",
       "      <td>6.713458</td>\n",
       "      <td>6.718053</td>\n",
       "      <td>0.099117</td>\n",
       "      <td>11:51</td>\n",
       "    </tr>\n",
       "    <tr>\n",
       "      <td>83</td>\n",
       "      <td>6.714202</td>\n",
       "      <td>6.714656</td>\n",
       "      <td>0.098900</td>\n",
       "      <td>11:51</td>\n",
       "    </tr>\n",
       "    <tr>\n",
       "      <td>84</td>\n",
       "      <td>6.718156</td>\n",
       "      <td>6.713133</td>\n",
       "      <td>0.098459</td>\n",
       "      <td>11:49</td>\n",
       "    </tr>\n",
       "    <tr>\n",
       "      <td>85</td>\n",
       "      <td>6.705763</td>\n",
       "      <td>6.715020</td>\n",
       "      <td>0.098303</td>\n",
       "      <td>11:47</td>\n",
       "    </tr>\n",
       "    <tr>\n",
       "      <td>86</td>\n",
       "      <td>6.705877</td>\n",
       "      <td>6.718959</td>\n",
       "      <td>0.098744</td>\n",
       "      <td>11:53</td>\n",
       "    </tr>\n",
       "    <tr>\n",
       "      <td>87</td>\n",
       "      <td>6.701169</td>\n",
       "      <td>6.712381</td>\n",
       "      <td>0.098708</td>\n",
       "      <td>11:41</td>\n",
       "    </tr>\n",
       "    <tr>\n",
       "      <td>88</td>\n",
       "      <td>6.716999</td>\n",
       "      <td>6.710381</td>\n",
       "      <td>0.099041</td>\n",
       "      <td>11:51</td>\n",
       "    </tr>\n",
       "    <tr>\n",
       "      <td>89</td>\n",
       "      <td>6.705362</td>\n",
       "      <td>6.713930</td>\n",
       "      <td>0.098738</td>\n",
       "      <td>11:47</td>\n",
       "    </tr>\n",
       "    <tr>\n",
       "      <td>90</td>\n",
       "      <td>6.710818</td>\n",
       "      <td>6.714345</td>\n",
       "      <td>0.098353</td>\n",
       "      <td>11:47</td>\n",
       "    </tr>\n",
       "    <tr>\n",
       "      <td>91</td>\n",
       "      <td>6.704442</td>\n",
       "      <td>6.738797</td>\n",
       "      <td>0.097481</td>\n",
       "      <td>11:46</td>\n",
       "    </tr>\n",
       "    <tr>\n",
       "      <td>92</td>\n",
       "      <td>6.724284</td>\n",
       "      <td>6.715572</td>\n",
       "      <td>0.098733</td>\n",
       "      <td>11:48</td>\n",
       "    </tr>\n",
       "    <tr>\n",
       "      <td>93</td>\n",
       "      <td>6.717839</td>\n",
       "      <td>6.719276</td>\n",
       "      <td>0.098530</td>\n",
       "      <td>11:47</td>\n",
       "    </tr>\n",
       "    <tr>\n",
       "      <td>94</td>\n",
       "      <td>6.711279</td>\n",
       "      <td>6.711872</td>\n",
       "      <td>0.098751</td>\n",
       "      <td>11:39</td>\n",
       "    </tr>\n",
       "    <tr>\n",
       "      <td>95</td>\n",
       "      <td>6.713540</td>\n",
       "      <td>6.712434</td>\n",
       "      <td>0.098706</td>\n",
       "      <td>11:41</td>\n",
       "    </tr>\n",
       "    <tr>\n",
       "      <td>96</td>\n",
       "      <td>6.715127</td>\n",
       "      <td>6.709778</td>\n",
       "      <td>0.098659</td>\n",
       "      <td>11:44</td>\n",
       "    </tr>\n",
       "    <tr>\n",
       "      <td>97</td>\n",
       "      <td>6.704834</td>\n",
       "      <td>6.709046</td>\n",
       "      <td>0.098440</td>\n",
       "      <td>11:42</td>\n",
       "    </tr>\n",
       "    <tr>\n",
       "      <td>98</td>\n",
       "      <td>6.714187</td>\n",
       "      <td>6.713832</td>\n",
       "      <td>0.098918</td>\n",
       "      <td>11:41</td>\n",
       "    </tr>\n",
       "    <tr>\n",
       "      <td>99</td>\n",
       "      <td>6.724922</td>\n",
       "      <td>6.710684</td>\n",
       "      <td>0.098360</td>\n",
       "      <td>11:38</td>\n",
       "    </tr>\n",
       "  </tbody>\n",
       "</table>"
      ],
      "text/plain": [
       "<IPython.core.display.HTML object>"
      ]
     },
     "metadata": {},
     "output_type": "display_data"
    }
   ],
   "source": [
    "NUM_EPOCHS = 100\n",
    "learn.fit(NUM_EPOCHS, lr=1e-3, cbs=SaveModelCallback(fname='rnn_encoder_spec', every_epoch=True))"
   ]
  },
  {
   "cell_type": "markdown",
   "metadata": {},
   "source": [
    "## Evalute embeddings"
   ]
  },
  {
   "cell_type": "code",
   "execution_count": 34,
   "metadata": {},
   "outputs": [],
   "source": [
    "from utils import Embeddings"
   ]
  },
  {
   "cell_type": "code",
   "execution_count": 35,
   "metadata": {},
   "outputs": [],
   "source": [
    "class DatasetPred():\n",
    "    def __len__(self):\n",
    "        return len(vocab)\n",
    "    def __getitem__(self, idx):\n",
    "        _, target_word = word_pairs[np.random.randint(len(word_pairs))]\n",
    "        source_word = vocab[idx]\n",
    "        return fn2features[source_word], word2index[target_word]"
   ]
  },
  {
   "cell_type": "code",
   "execution_count": 36,
   "metadata": {},
   "outputs": [],
   "source": [
    "pred_dl = DataLoader(DatasetPred(), BS, NUM_WORKERS)"
   ]
  },
  {
   "cell_type": "code",
   "execution_count": 38,
   "metadata": {},
   "outputs": [
    {
     "name": "stdout",
     "output_type": "stream",
     "text": [
      "CPU times: user 960 ms, sys: 1.71 s, total: 2.67 s\n",
      "Wall time: 3.17 s\n"
     ]
    }
   ],
   "source": [
    "%%time\n",
    "\n",
    "learn.model.return_embeddings = True\n",
    "learn.model.eval()\n",
    "\n",
    "all_embeddings = []\n",
    "\n",
    "with torch.no_grad():    \n",
    "    for batch in pred_dl:\n",
    "        embeddings = learn.model(batch[0].cuda())\n",
    "        all_embeddings.append(embeddings.detach().cpu().squeeze(0))"
   ]
  },
  {
   "cell_type": "code",
   "execution_count": 39,
   "metadata": {},
   "outputs": [],
   "source": [
    "embeddings = torch.cat(all_embeddings)"
   ]
  },
  {
   "cell_type": "code",
   "execution_count": 40,
   "metadata": {},
   "outputs": [],
   "source": [
    "e = Embeddings(\n",
    "    embeddings,\n",
    "    vocab\n",
    ")"
   ]
  },
  {
   "cell_type": "code",
   "execution_count": null,
   "metadata": {},
   "outputs": [],
   "source": [
    "for w in ['fast', 'lost', 'small', 'true', 'crazy', 'slow']:\n",
    "    print(f'{w}: {e.nn_words_to(e[w])}')"
   ]
  },
  {
   "cell_type": "markdown",
   "metadata": {},
   "source": [
    "## Evaluating embeddings using [word-embeddings-benchmarks](https://github.com/kudkudak/word-embeddings-benchmarks)"
   ]
  },
  {
   "cell_type": "code",
   "execution_count": 42,
   "metadata": {},
   "outputs": [],
   "source": [
    "import logging\n",
    "from six import iteritems\n",
    "from web.datasets.similarity import fetch_MEN, fetch_WS353, fetch_SimLex999\n",
    "from web.embeddings import fetch_GloVe\n",
    "from web.evaluate import evaluate_similarity\n",
    "from web.embedding import Embedding, Vocabulary\n",
    "from gensim.models import Word2Vec\n",
    "from gensim.models import KeyedVectors"
   ]
  },
  {
   "cell_type": "code",
   "execution_count": 43,
   "metadata": {},
   "outputs": [],
   "source": [
    "tasks = {\n",
    "    \"MEN\": fetch_MEN(),\n",
    "    \"WS353\": fetch_WS353(),\n",
    "    \"SIMLEX999\": fetch_SimLex999()\n",
    "}"
   ]
  },
  {
   "cell_type": "code",
   "execution_count": 44,
   "metadata": {},
   "outputs": [],
   "source": [
    "our_embeddings = Embedding(\n",
    "    Vocabulary(vocab),\n",
    "    embeddings\n",
    ")\n",
    "\n",
    "speech2vec = KeyedVectors.load_word2vec_format('../speech2vec-pretrained-vectors/word2vec/50.vec', binary=False) \n",
    "speech2vec_embeddings = Embedding(Vocabulary(list(speech2vec.vocab.keys())), speech2vec.vectors)"
   ]
  },
  {
   "cell_type": "code",
   "execution_count": 45,
   "metadata": {},
   "outputs": [
    {
     "name": "stderr",
     "output_type": "stream",
     "text": [
      "Missing 392 words. Will replace them with mean vector\n",
      "/opt/conda/lib/python3.7/site-packages/web-0.0.1-py3.7.egg/web/evaluate.py:336: FutureWarning: arrays to stack must be passed as a \"sequence\" type such as list or tuple. Support for non-sequence iterables such as generators is deprecated as of NumPy 1.16 and will raise an error in the future.\n",
      "  A = np.vstack(w.get(word, mean_vector) for word in X[:, 0])\n",
      "/opt/conda/lib/python3.7/site-packages/web-0.0.1-py3.7.egg/web/evaluate.py:337: FutureWarning: arrays to stack must be passed as a \"sequence\" type such as list or tuple. Support for non-sequence iterables such as generators is deprecated as of NumPy 1.16 and will raise an error in the future.\n",
      "  B = np.vstack(w.get(word, mean_vector) for word in X[:, 1])\n",
      "Missing 61 words. Will replace them with mean vector\n",
      "Missing 24 words. Will replace them with mean vector\n"
     ]
    },
    {
     "name": "stdout",
     "output_type": "stream",
     "text": [
      "Spearman correlation of scores on MEN -0.02711111464006222\n",
      "Spearman correlation of scores on WS353 0.15145529914207986\n",
      "Spearman correlation of scores on SIMLEX999 0.0293231777105999\n"
     ]
    }
   ],
   "source": [
    "for name, data in iteritems(tasks):\n",
    "    print(\"Spearman correlation of scores on {} {}\".format(name, evaluate_similarity(our_embeddings, data.X, data.y)))"
   ]
  },
  {
   "cell_type": "code",
   "execution_count": 46,
   "metadata": {},
   "outputs": [
    {
     "name": "stderr",
     "output_type": "stream",
     "text": [
      "Missing 392 words. Will replace them with mean vector\n",
      "Missing 61 words. Will replace them with mean vector\n",
      "Missing 24 words. Will replace them with mean vector\n"
     ]
    },
    {
     "name": "stdout",
     "output_type": "stream",
     "text": [
      "Spearman correlation of scores on MEN 0.6056592803599269\n",
      "Spearman correlation of scores on WS353 0.43349390636024643\n",
      "Spearman correlation of scores on SIMLEX999 0.25938770901422736\n"
     ]
    }
   ],
   "source": [
    "for name, data in iteritems(tasks):\n",
    "    print(\"Spearman correlation of scores on {} {}\".format(name, evaluate_similarity(speech2vec_embeddings, data.X, data.y)))"
   ]
  },
  {
   "cell_type": "markdown",
   "metadata": {},
   "source": [
    "## Loss decrease and improvements on semantic tasks as training progresses"
   ]
  },
  {
   "cell_type": "code",
   "execution_count": 49,
   "metadata": {},
   "outputs": [],
   "source": [
    "%%capture\n",
    "\n",
    "val_losses, accuracies, task_perf = [], [], []\n",
    "for i in range(NUM_EPOCHS):\n",
    "    learn.load(f'rnn_encoder_spec_{i}')\n",
    "#     loss, accuracy = learn.validate()\n",
    "#     val_losses.append(loss)\n",
    "#     accuracies.append(accuracy)\n",
    "    \n",
    "    learn.model.return_embeddings = True\n",
    "    learn.model.eval()\n",
    "\n",
    "    all_embeddings = []\n",
    "\n",
    "    with torch.no_grad():    \n",
    "        for batch in pred_dl:\n",
    "            embeddings = learn.model(batch[0].cuda())\n",
    "            all_embeddings.append(embeddings.detach().cpu().squeeze(0))\n",
    "\n",
    "    embeddings = torch.cat(all_embeddings)\n",
    "    our_embeddings = Embedding(\n",
    "        Vocabulary([w.lower() for w in vocab]),\n",
    "        embeddings\n",
    "    )\n",
    "\n",
    "    task_perf.append([evaluate_similarity(our_embeddings, data.X, data.y) for name, data in iteritems(tasks)])"
   ]
  },
  {
   "cell_type": "code",
   "execution_count": 50,
   "metadata": {},
   "outputs": [],
   "source": [
    "men, ws353, simlex999 = list(zip(*task_perf))"
   ]
  },
  {
   "cell_type": "code",
   "execution_count": 51,
   "metadata": {},
   "outputs": [],
   "source": [
    "import matplotlib.pyplot as plt"
   ]
  },
  {
   "cell_type": "code",
   "execution_count": 52,
   "metadata": {},
   "outputs": [
    {
     "name": "stderr",
     "output_type": "stream",
     "text": [
      "No handles with labels found to put in legend.\n"
     ]
    },
    {
     "data": {
      "image/png": "[encoded data removed]",
      "text/plain": [
       "<Figure size 432x288 with 2 Axes>"
      ]
     },
     "metadata": {
      "needs_background": "light"
     },
     "output_type": "display_data"
    }
   ],
   "source": [
    "fig, ax1 = plt.subplots()\n",
    "\n",
    "# ax1.plot(val_losses, label='val loss')\n",
    "\n",
    "ax2 = ax1.twinx()\n",
    "ax2.plot(men, label='MEN', c='g')\n",
    "ax2.plot(ws353, label='WS353', c='m')\n",
    "ax2.plot(simlex999, label='SIMLEX999', c='y')\n",
    "\n",
    "ax1.legend(loc=[0.07, 0.9])\n",
    "ax2.legend(loc=[0.7, 0.15])\n",
    "\n",
    "ax1.set_xlabel('epochs');"
   ]
  }
 ],
 "metadata": {
  "kernelspec": {
   "display_name": "Python 3",
   "language": "python",
   "name": "python3"
  },
  "language_info": {
   "codemirror_mode": {
    "name": "ipython",
    "version": 3
   },
   "file_extension": ".py",
   "mimetype": "text/x-python",
   "name": "python",
   "nbconvert_exporter": "python",
   "pygments_lexer": "ipython3",
   "version": "3.7.6"
  }
 },
 "nbformat": 4,
 "nbformat_minor": 4
}
