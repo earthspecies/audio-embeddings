{
 "cells": [
  {
   "cell_type": "markdown",
   "metadata": {},
   "source": [
    "The task of leraning semantic audio embeddings feel daunting - maybe we can help our model by pretraining the encoder to learn to distinguish words from audio?\n",
    "\n",
    "This is providing a crutch to our model - it no longer will be unsupervised in the sense that we will levarge word labels for the pretraining. It might nonetheless be very useful to do as we work towards a fully working end to end unsupervised model."
   ]
  },
  {
   "cell_type": "code",
   "execution_count": 1,
   "metadata": {},
   "outputs": [],
   "source": [
    "from fastai.vision.all import *\n",
    "from fastai.learner import *\n",
    "from fastai.data.all import *\n",
    "from fastai.callback.tracker import SaveModelCallback\n",
    "import pandas as pd\n",
    "import matplotlib.pyplot as plt\n",
    "from pathlib2 import Path\n",
    "import numpy as np\n",
    "import random\n",
    "from torch.nn import MSELoss"
   ]
  },
  {
   "cell_type": "code",
   "execution_count": 2,
   "metadata": {},
   "outputs": [
    {
     "name": "stdout",
     "output_type": "stream",
     "text": [
      "CPU times: user 31.8 s, sys: 3.69 s, total: 35.5 s\n",
      "Wall time: 54.3 s\n"
     ]
    },
    {
     "data": {
      "text/plain": [
       "(17937758, 12)"
      ]
     },
     "execution_count": 2,
     "metadata": {},
     "output_type": "execute_result"
    }
   ],
   "source": [
    "%%time\n",
    "\n",
    "df = pd.read_csv('data/examples_with_length_speech2vec_vocab.csv')\n",
    "df.shape"
   ]
  },
  {
   "cell_type": "code",
   "execution_count": 3,
   "metadata": {},
   "outputs": [],
   "source": [
    "df = df[((df.source_length < 70) & (df.target_length < 70) & (df.source_length > 25) & (df.target_length > 25))]\n",
    "df.reset_index(drop=True, inplace=True)"
   ]
  },
  {
   "cell_type": "code",
   "execution_count": 4,
   "metadata": {},
   "outputs": [
    {
     "name": "stdout",
     "output_type": "stream",
     "text": [
      "CPU times: user 17.5 s, sys: 11.1 s, total: 28.6 s\n",
      "Wall time: 28.6 s\n"
     ]
    }
   ],
   "source": [
    "%%time\n",
    "fn2features = pd.read_pickle('data/fn2feature.pkl')"
   ]
  },
  {
   "cell_type": "code",
   "execution_count": 5,
   "metadata": {},
   "outputs": [],
   "source": [
    "dataset_mean = -3\n",
    "dataset_std = 12\n",
    "\n",
    "def normalize_data(ary):\n",
    "    return (ary - dataset_mean) / dataset_std"
   ]
  },
  {
   "cell_type": "code",
   "execution_count": 6,
   "metadata": {},
   "outputs": [],
   "source": [
    "def empty_list(): return list()"
   ]
  },
  {
   "cell_type": "code",
   "execution_count": 7,
   "metadata": {},
   "outputs": [],
   "source": [
    "# %%time\n",
    "\n",
    "# word2row_idxs = defaultdict(empty_list)\n",
    "\n",
    "# for idx, row in df.iterrows():\n",
    "#     word2row_idxs[row.source_word].append(idx)\n",
    "    \n",
    "# pd.to_pickle(word2row_idxs, 'data/word2row_idxs_vocab_subset.pkl')"
   ]
  },
  {
   "cell_type": "code",
   "execution_count": 8,
   "metadata": {},
   "outputs": [],
   "source": [
    "word2row_idxs = pd.read_pickle('data/word2row_idxs_vocab_subset.pkl')"
   ]
  },
  {
   "cell_type": "code",
   "execution_count": 9,
   "metadata": {},
   "outputs": [],
   "source": [
    "def prepare_features(fn, pad_to=69, pad_left=False):\n",
    "    ary = fn2features[fn][:pad_to]\n",
    "    example = np.zeros((pad_to, 13))\n",
    "    if pad_left:\n",
    "        example[-ary.shape[0]:, :] = ary\n",
    "    else: example[:ary.shape[0], :] = ary\n",
    "    return example.astype(np.float32)"
   ]
  },
  {
   "cell_type": "code",
   "execution_count": 10,
   "metadata": {},
   "outputs": [],
   "source": [
    "vocab = df.target_word.unique().tolist()"
   ]
  },
  {
   "cell_type": "code",
   "execution_count": 11,
   "metadata": {},
   "outputs": [],
   "source": [
    "class Dataset():\n",
    "    def __init__(self, df):\n",
    "        self.df = df\n",
    "    def __len__(self):\n",
    "        return self.df.shape[0]\n",
    "    def __getitem__(self, idx):\n",
    "        target_fn = self.df.target_fn[idx]\n",
    "        x = normalize_data(prepare_features(target_fn))\n",
    "        return x, vocab.index(self.df.target_word[idx])"
   ]
  },
  {
   "cell_type": "code",
   "execution_count": 12,
   "metadata": {},
   "outputs": [],
   "source": [
    "train_examples = df[df.set_name.isin(['train-clean-360', 'train-clean-100', 'dev-clean'])]\n",
    "valid_examples = df[df.set_name == 'test-clean']\n",
    "\n",
    "train_examples.reset_index(inplace=True, drop=True)\n",
    "valid_examples.reset_index(inplace=True, drop=True)"
   ]
  },
  {
   "cell_type": "code",
   "execution_count": 13,
   "metadata": {},
   "outputs": [],
   "source": [
    "train_ds = Dataset(train_examples)\n",
    "valid_ds = Dataset(valid_examples)"
   ]
  },
  {
   "cell_type": "code",
   "execution_count": 14,
   "metadata": {},
   "outputs": [
    {
     "data": {
      "text/plain": [
       "(3300062, 36832)"
      ]
     },
     "execution_count": 14,
     "metadata": {},
     "output_type": "execute_result"
    }
   ],
   "source": [
    "len(train_ds), len(valid_ds)"
   ]
  },
  {
   "cell_type": "code",
   "execution_count": 15,
   "metadata": {},
   "outputs": [],
   "source": [
    "BS = 2048\n",
    "LR = 1e-3\n",
    "NUM_WORKERS = 8\n",
    "\n",
    "train_dl = DataLoader(train_ds, BS, NUM_WORKERS, shuffle=True)\n",
    "valid_dl = DataLoader(valid_ds, BS, NUM_WORKERS)\n",
    "\n",
    "dls = DataLoaders(train_dl, valid_dl)"
   ]
  },
  {
   "cell_type": "code",
   "execution_count": 16,
   "metadata": {},
   "outputs": [],
   "source": [
    "# bidirectional encoder, 1 layer, concatenate hidden state\n",
    "class Model(Module):\n",
    "    def __init__(self, hidden_size=25, num_layers_encoder=3):\n",
    "        self.return_embeddings = False\n",
    "        self.num_layers_encoder = num_layers_encoder\n",
    "        self.hidden_size = hidden_size\n",
    "        \n",
    "        self.encoder= nn.LSTM(\n",
    "            input_size=13,\n",
    "            hidden_size=hidden_size,\n",
    "            num_layers=self.num_layers_encoder,\n",
    "            batch_first=True,\n",
    "            dropout=0,\n",
    "            bidirectional=True\n",
    "        ) \n",
    "        \n",
    "        self.lin = nn.Linear(2*hidden_size, len(vocab))\n",
    "            \n",
    "    def forward(self, source_features):\n",
    "        _, (embeddings, _) = self.encoder(source_features)\n",
    "        \n",
    "        embeddings = torch.cat((embeddings[-1], embeddings[-2]), 1)\n",
    "        if self.return_embeddings: return embeddings\n",
    "        \n",
    "        return self.lin(embeddings)"
   ]
  },
  {
   "cell_type": "code",
   "execution_count": 17,
   "metadata": {},
   "outputs": [],
   "source": [
    "learn = Learner(dls.cuda(), Model().cuda(), loss_func=CrossEntropyLossFlat(), lr=1e-3, opt_func=Adam, metrics=[accuracy])"
   ]
  },
  {
   "cell_type": "code",
   "execution_count": 18,
   "metadata": {},
   "outputs": [
    {
     "data": {
      "text/html": [
       "<table border=\"1\" class=\"dataframe\">\n",
       "  <thead>\n",
       "    <tr style=\"text-align: left;\">\n",
       "      <th>epoch</th>\n",
       "      <th>train_loss</th>\n",
       "      <th>valid_loss</th>\n",
       "      <th>accuracy</th>\n",
       "      <th>time</th>\n",
       "    </tr>\n",
       "  </thead>\n",
       "  <tbody>\n",
       "    <tr>\n",
       "      <td>0</td>\n",
       "      <td>6.249473</td>\n",
       "      <td>6.229773</td>\n",
       "      <td>0.133308</td>\n",
       "      <td>02:39</td>\n",
       "    </tr>\n",
       "    <tr>\n",
       "      <td>1</td>\n",
       "      <td>4.242486</td>\n",
       "      <td>4.317686</td>\n",
       "      <td>0.318962</td>\n",
       "      <td>02:41</td>\n",
       "    </tr>\n",
       "    <tr>\n",
       "      <td>2</td>\n",
       "      <td>3.207394</td>\n",
       "      <td>3.340269</td>\n",
       "      <td>0.447899</td>\n",
       "      <td>02:43</td>\n",
       "    </tr>\n",
       "    <tr>\n",
       "      <td>3</td>\n",
       "      <td>2.581912</td>\n",
       "      <td>2.761657</td>\n",
       "      <td>0.527395</td>\n",
       "      <td>02:42</td>\n",
       "    </tr>\n",
       "    <tr>\n",
       "      <td>4</td>\n",
       "      <td>2.199839</td>\n",
       "      <td>2.421428</td>\n",
       "      <td>0.576998</td>\n",
       "      <td>02:44</td>\n",
       "    </tr>\n",
       "    <tr>\n",
       "      <td>5</td>\n",
       "      <td>1.925077</td>\n",
       "      <td>2.185860</td>\n",
       "      <td>0.615525</td>\n",
       "      <td>02:42</td>\n",
       "    </tr>\n",
       "    <tr>\n",
       "      <td>6</td>\n",
       "      <td>1.739560</td>\n",
       "      <td>2.020813</td>\n",
       "      <td>0.638548</td>\n",
       "      <td>02:43</td>\n",
       "    </tr>\n",
       "    <tr>\n",
       "      <td>7</td>\n",
       "      <td>1.581429</td>\n",
       "      <td>1.886971</td>\n",
       "      <td>0.660241</td>\n",
       "      <td>02:42</td>\n",
       "    </tr>\n",
       "    <tr>\n",
       "      <td>8</td>\n",
       "      <td>1.467972</td>\n",
       "      <td>1.790694</td>\n",
       "      <td>0.672513</td>\n",
       "      <td>02:44</td>\n",
       "    </tr>\n",
       "    <tr>\n",
       "      <td>9</td>\n",
       "      <td>1.378024</td>\n",
       "      <td>1.716751</td>\n",
       "      <td>0.683753</td>\n",
       "      <td>02:42</td>\n",
       "    </tr>\n",
       "    <tr>\n",
       "      <td>10</td>\n",
       "      <td>1.303027</td>\n",
       "      <td>1.651439</td>\n",
       "      <td>0.692414</td>\n",
       "      <td>02:43</td>\n",
       "    </tr>\n",
       "    <tr>\n",
       "      <td>11</td>\n",
       "      <td>1.231586</td>\n",
       "      <td>1.601363</td>\n",
       "      <td>0.701455</td>\n",
       "      <td>02:41</td>\n",
       "    </tr>\n",
       "    <tr>\n",
       "      <td>12</td>\n",
       "      <td>1.178764</td>\n",
       "      <td>1.550824</td>\n",
       "      <td>0.709926</td>\n",
       "      <td>02:43</td>\n",
       "    </tr>\n",
       "    <tr>\n",
       "      <td>13</td>\n",
       "      <td>1.135144</td>\n",
       "      <td>1.508363</td>\n",
       "      <td>0.713401</td>\n",
       "      <td>02:42</td>\n",
       "    </tr>\n",
       "    <tr>\n",
       "      <td>14</td>\n",
       "      <td>1.088021</td>\n",
       "      <td>1.485226</td>\n",
       "      <td>0.720786</td>\n",
       "      <td>02:41</td>\n",
       "    </tr>\n",
       "    <tr>\n",
       "      <td>15</td>\n",
       "      <td>1.050825</td>\n",
       "      <td>1.453714</td>\n",
       "      <td>0.725320</td>\n",
       "      <td>02:41</td>\n",
       "    </tr>\n",
       "    <tr>\n",
       "      <td>16</td>\n",
       "      <td>1.014823</td>\n",
       "      <td>1.419341</td>\n",
       "      <td>0.733058</td>\n",
       "      <td>02:43</td>\n",
       "    </tr>\n",
       "    <tr>\n",
       "      <td>17</td>\n",
       "      <td>0.991190</td>\n",
       "      <td>1.386716</td>\n",
       "      <td>0.736751</td>\n",
       "      <td>02:42</td>\n",
       "    </tr>\n",
       "    <tr>\n",
       "      <td>18</td>\n",
       "      <td>0.957324</td>\n",
       "      <td>1.371543</td>\n",
       "      <td>0.738678</td>\n",
       "      <td>02:41</td>\n",
       "    </tr>\n",
       "    <tr>\n",
       "      <td>19</td>\n",
       "      <td>0.932581</td>\n",
       "      <td>1.349263</td>\n",
       "      <td>0.741421</td>\n",
       "      <td>02:42</td>\n",
       "    </tr>\n",
       "    <tr>\n",
       "      <td>20</td>\n",
       "      <td>0.907697</td>\n",
       "      <td>1.333570</td>\n",
       "      <td>0.746769</td>\n",
       "      <td>02:41</td>\n",
       "    </tr>\n",
       "    <tr>\n",
       "      <td>21</td>\n",
       "      <td>0.887558</td>\n",
       "      <td>1.323636</td>\n",
       "      <td>0.747882</td>\n",
       "      <td>02:43</td>\n",
       "    </tr>\n",
       "    <tr>\n",
       "      <td>22</td>\n",
       "      <td>0.871254</td>\n",
       "      <td>1.310166</td>\n",
       "      <td>0.748805</td>\n",
       "      <td>02:40</td>\n",
       "    </tr>\n",
       "    <tr>\n",
       "      <td>23</td>\n",
       "      <td>0.855871</td>\n",
       "      <td>1.301836</td>\n",
       "      <td>0.749321</td>\n",
       "      <td>02:44</td>\n",
       "    </tr>\n",
       "    <tr>\n",
       "      <td>24</td>\n",
       "      <td>0.839567</td>\n",
       "      <td>1.272230</td>\n",
       "      <td>0.755512</td>\n",
       "      <td>02:40</td>\n",
       "    </tr>\n",
       "    <tr>\n",
       "      <td>25</td>\n",
       "      <td>0.824522</td>\n",
       "      <td>1.267389</td>\n",
       "      <td>0.757575</td>\n",
       "      <td>02:43</td>\n",
       "    </tr>\n",
       "    <tr>\n",
       "      <td>26</td>\n",
       "      <td>0.811707</td>\n",
       "      <td>1.259501</td>\n",
       "      <td>0.759177</td>\n",
       "      <td>02:40</td>\n",
       "    </tr>\n",
       "    <tr>\n",
       "      <td>27</td>\n",
       "      <td>0.803783</td>\n",
       "      <td>1.255118</td>\n",
       "      <td>0.762543</td>\n",
       "      <td>02:40</td>\n",
       "    </tr>\n",
       "    <tr>\n",
       "      <td>28</td>\n",
       "      <td>0.788887</td>\n",
       "      <td>1.248293</td>\n",
       "      <td>0.761376</td>\n",
       "      <td>02:40</td>\n",
       "    </tr>\n",
       "    <tr>\n",
       "      <td>29</td>\n",
       "      <td>0.781536</td>\n",
       "      <td>1.236010</td>\n",
       "      <td>0.764145</td>\n",
       "      <td>02:42</td>\n",
       "    </tr>\n",
       "  </tbody>\n",
       "</table>"
      ],
      "text/plain": [
       "<IPython.core.display.HTML object>"
      ]
     },
     "metadata": {},
     "output_type": "display_data"
    }
   ],
   "source": [
    "learn.fit(30, lr=1e-3)"
   ]
  },
  {
   "cell_type": "code",
   "execution_count": 19,
   "metadata": {},
   "outputs": [
    {
     "data": {
      "text/plain": [
       "Path('models/encoder_weights_supervised.pth')"
      ]
     },
     "execution_count": 19,
     "metadata": {},
     "output_type": "execute_result"
    }
   ],
   "source": [
    "learn.save('encoder_weights_supervised')"
   ]
  },
  {
   "cell_type": "code",
   "execution_count": 20,
   "metadata": {},
   "outputs": [
    {
     "data": {
      "text/html": [],
      "text/plain": [
       "<IPython.core.display.HTML object>"
      ]
     },
     "metadata": {},
     "output_type": "display_data"
    }
   ],
   "source": [
    "preds, targs = learn.get_preds()"
   ]
  },
  {
   "cell_type": "code",
   "execution_count": 26,
   "metadata": {},
   "outputs": [
    {
     "data": {
      "text/html": [
       "<div>\n",
       "<style scoped>\n",
       "    .dataframe tbody tr th:only-of-type {\n",
       "        vertical-align: middle;\n",
       "    }\n",
       "\n",
       "    .dataframe tbody tr th {\n",
       "        vertical-align: top;\n",
       "    }\n",
       "\n",
       "    .dataframe thead th {\n",
       "        text-align: right;\n",
       "    }\n",
       "</style>\n",
       "<table border=\"1\" class=\"dataframe\">\n",
       "  <thead>\n",
       "    <tr style=\"text-align: right;\">\n",
       "      <th></th>\n",
       "      <th>source_word</th>\n",
       "      <th>target_word</th>\n",
       "      <th>source_fn</th>\n",
       "      <th>target_fn</th>\n",
       "      <th>set_name</th>\n",
       "      <th>speaker_id</th>\n",
       "      <th>book_id</th>\n",
       "      <th>distance_from_target</th>\n",
       "      <th>audio_fpath</th>\n",
       "      <th>source_length</th>\n",
       "      <th>target_length</th>\n",
       "      <th>in_speech2vec_vocab</th>\n",
       "    </tr>\n",
       "  </thead>\n",
       "  <tbody>\n",
       "    <tr>\n",
       "      <th>0</th>\n",
       "      <td>STEW</td>\n",
       "      <td>DINNER</td>\n",
       "      <td>5186b91b28ab4c8c9534119e9714ac43</td>\n",
       "      <td>de23b34fbbac4791b7be6d6b0b63f835</td>\n",
       "      <td>test-clean</td>\n",
       "      <td>1089</td>\n",
       "      <td>134686</td>\n",
       "      <td>2</td>\n",
       "      <td>data/LibriSpeech/test-clean/1089/134686/1089-134686-0000.flac</td>\n",
       "      <td>38</td>\n",
       "      <td>36</td>\n",
       "      <td>True</td>\n",
       "    </tr>\n",
       "    <tr>\n",
       "      <th>1</th>\n",
       "      <td>DINNER</td>\n",
       "      <td>STEW</td>\n",
       "      <td>de23b34fbbac4791b7be6d6b0b63f835</td>\n",
       "      <td>5186b91b28ab4c8c9534119e9714ac43</td>\n",
       "      <td>test-clean</td>\n",
       "      <td>1089</td>\n",
       "      <td>134686</td>\n",
       "      <td>2</td>\n",
       "      <td>data/LibriSpeech/test-clean/1089/134686/1089-134686-0000.flac</td>\n",
       "      <td>36</td>\n",
       "      <td>38</td>\n",
       "      <td>True</td>\n",
       "    </tr>\n",
       "    <tr>\n",
       "      <th>2</th>\n",
       "      <td>DINNER</td>\n",
       "      <td>TURNIPS</td>\n",
       "      <td>de23b34fbbac4791b7be6d6b0b63f835</td>\n",
       "      <td>ef10f0583db242e087c2642c1a787df5</td>\n",
       "      <td>test-clean</td>\n",
       "      <td>1089</td>\n",
       "      <td>134686</td>\n",
       "      <td>1</td>\n",
       "      <td>data/LibriSpeech/test-clean/1089/134686/1089-134686-0000.flac</td>\n",
       "      <td>36</td>\n",
       "      <td>48</td>\n",
       "      <td>True</td>\n",
       "    </tr>\n",
       "    <tr>\n",
       "      <th>3</th>\n",
       "      <td>TURNIPS</td>\n",
       "      <td>DINNER</td>\n",
       "      <td>ef10f0583db242e087c2642c1a787df5</td>\n",
       "      <td>de23b34fbbac4791b7be6d6b0b63f835</td>\n",
       "      <td>test-clean</td>\n",
       "      <td>1089</td>\n",
       "      <td>134686</td>\n",
       "      <td>1</td>\n",
       "      <td>data/LibriSpeech/test-clean/1089/134686/1089-134686-0000.flac</td>\n",
       "      <td>48</td>\n",
       "      <td>36</td>\n",
       "      <td>True</td>\n",
       "    </tr>\n",
       "    <tr>\n",
       "      <th>4</th>\n",
       "      <td>TURNIPS</td>\n",
       "      <td>CARROTS</td>\n",
       "      <td>ef10f0583db242e087c2642c1a787df5</td>\n",
       "      <td>b007359ef51944b29b5489e062d85fb6</td>\n",
       "      <td>test-clean</td>\n",
       "      <td>1089</td>\n",
       "      <td>134686</td>\n",
       "      <td>2</td>\n",
       "      <td>data/LibriSpeech/test-clean/1089/134686/1089-134686-0000.flac</td>\n",
       "      <td>48</td>\n",
       "      <td>52</td>\n",
       "      <td>True</td>\n",
       "    </tr>\n",
       "  </tbody>\n",
       "</table>\n",
       "</div>"
      ],
      "text/plain": [
       "  source_word target_word                         source_fn  \\\n",
       "0        STEW      DINNER  5186b91b28ab4c8c9534119e9714ac43   \n",
       "1      DINNER        STEW  de23b34fbbac4791b7be6d6b0b63f835   \n",
       "2      DINNER     TURNIPS  de23b34fbbac4791b7be6d6b0b63f835   \n",
       "3     TURNIPS      DINNER  ef10f0583db242e087c2642c1a787df5   \n",
       "4     TURNIPS     CARROTS  ef10f0583db242e087c2642c1a787df5   \n",
       "\n",
       "                          target_fn    set_name  speaker_id  book_id  \\\n",
       "0  de23b34fbbac4791b7be6d6b0b63f835  test-clean        1089   134686   \n",
       "1  5186b91b28ab4c8c9534119e9714ac43  test-clean        1089   134686   \n",
       "2  ef10f0583db242e087c2642c1a787df5  test-clean        1089   134686   \n",
       "3  de23b34fbbac4791b7be6d6b0b63f835  test-clean        1089   134686   \n",
       "4  b007359ef51944b29b5489e062d85fb6  test-clean        1089   134686   \n",
       "\n",
       "   distance_from_target  \\\n",
       "0                     2   \n",
       "1                     2   \n",
       "2                     1   \n",
       "3                     1   \n",
       "4                     2   \n",
       "\n",
       "                                                     audio_fpath  \\\n",
       "0  data/LibriSpeech/test-clean/1089/134686/1089-134686-0000.flac   \n",
       "1  data/LibriSpeech/test-clean/1089/134686/1089-134686-0000.flac   \n",
       "2  data/LibriSpeech/test-clean/1089/134686/1089-134686-0000.flac   \n",
       "3  data/LibriSpeech/test-clean/1089/134686/1089-134686-0000.flac   \n",
       "4  data/LibriSpeech/test-clean/1089/134686/1089-134686-0000.flac   \n",
       "\n",
       "   source_length  target_length  in_speech2vec_vocab  \n",
       "0             38             36                 True  \n",
       "1             36             38                 True  \n",
       "2             36             48                 True  \n",
       "3             48             36                 True  \n",
       "4             48             52                 True  "
      ]
     },
     "execution_count": 26,
     "metadata": {},
     "output_type": "execute_result"
    }
   ],
   "source": [
    "valid_examples.head()"
   ]
  },
  {
   "cell_type": "code",
   "execution_count": 29,
   "metadata": {},
   "outputs": [],
   "source": [
    "from IPython.lib.display import Audio"
   ]
  },
  {
   "cell_type": "code",
   "execution_count": 33,
   "metadata": {},
   "outputs": [
    {
     "data": {
      "text/plain": [
       "(tensor(3867), tensor(3867), '68893b7edf834d97a3818e8c509a65a9')"
      ]
     },
     "execution_count": 33,
     "metadata": {},
     "output_type": "execute_result"
    }
   ],
   "source": [
    "idx = 100\n",
    "preds[idx].argmax(), targs[idx], valid_examples.target_fn[idx]"
   ]
  },
  {
   "cell_type": "code",
   "execution_count": 34,
   "metadata": {},
   "outputs": [
    {
     "data": {
      "text/plain": [
       "'PAGE'"
      ]
     },
     "execution_count": 34,
     "metadata": {},
     "output_type": "execute_result"
    }
   ],
   "source": [
    "vocab[targs[idx]]"
   ]
  },
  {
   "cell_type": "code",
   "execution_count": 35,
   "metadata": {},
   "outputs": [
    {
     "data": {
      "text/html": [
       "\n",
       "                <audio  controls=\"controls\" >\n",
       "                    <source src=\"data:audio/x-wav;base64,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\" type=\"audio/x-wav\" />\n",
       "                    Your browser does not support the audio element.\n",
       "                </audio>\n",
       "              "
      ],
      "text/plain": [
       "<IPython.lib.display.Audio object>"
      ]
     },
     "execution_count": 35,
     "metadata": {},
     "output_type": "execute_result"
    }
   ],
   "source": [
    "Audio(data=f'data/examples_audio/{valid_examples.target_fn[idx]}.wav')"
   ]
  }
 ],
 "metadata": {
  "kernelspec": {
   "display_name": "Python 3",
   "language": "python",
   "name": "python3"
  },
  "language_info": {
   "codemirror_mode": {
    "name": "ipython",
    "version": 3
   },
   "file_extension": ".py",
   "mimetype": "text/x-python",
   "name": "python",
   "nbconvert_exporter": "python",
   "pygments_lexer": "ipython3",
   "version": "3.7.6"
  }
 },
 "nbformat": 4,
 "nbformat_minor": 4
}
