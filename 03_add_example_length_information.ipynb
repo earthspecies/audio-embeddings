{
 "cells": [
  {
   "cell_type": "code",
   "execution_count": 1,
   "metadata": {},
   "outputs": [],
   "source": [
    "from fastai.vision.all import *\n",
    "from fastai.learner import *\n",
    "from fastai.data.all import *\n",
    "from fastai.callback.tracker import SaveModelCallback\n",
    "import pandas as pd\n",
    "import matplotlib.pyplot as plt\n",
    "from pathlib2 import Path\n",
    "import numpy as np\n",
    "import random\n",
    "from torch.nn import MSELoss"
   ]
  },
  {
   "cell_type": "code",
   "execution_count": 2,
   "metadata": {},
   "outputs": [
    {
     "name": "stdout",
     "output_type": "stream",
     "text": [
      "CPU times: user 22.8 s, sys: 2.37 s, total: 25.1 s\n",
      "Wall time: 25.1 s\n"
     ]
    },
    {
     "data": {
      "text/plain": [
       "(14276908, 9)"
      ]
     },
     "execution_count": 2,
     "metadata": {},
     "output_type": "execute_result"
    }
   ],
   "source": [
    "%%time\n",
    "\n",
    "df = pd.read_csv('data/examples.csv')\n",
    "df.shape"
   ]
  },
  {
   "cell_type": "code",
   "execution_count": 3,
   "metadata": {},
   "outputs": [
    {
     "name": "stdout",
     "output_type": "stream",
     "text": [
      "CPU times: user 24min 7s, sys: 5min 22s, total: 29min 30s\n",
      "Wall time: 1h 14min 34s\n"
     ]
    }
   ],
   "source": [
    "%%time\n",
    "\n",
    "uniq_fns = np.unique(df.target_fn.values)\n",
    "fn2feature = {}\n",
    "for fn in uniq_fns:\n",
    "    ary = pd.read_pickle(f'data/examples/{fn}.pkl')\n",
    "    fn2feature[fn] = ary\n",
    "\n",
    "pd.to_pickle(fn2feature, 'data/fn2feature.pkl')"
   ]
  },
  {
   "cell_type": "code",
   "execution_count": 4,
   "metadata": {},
   "outputs": [
    {
     "name": "stdout",
     "output_type": "stream",
     "text": [
      "CPU times: user 17 s, sys: 6.76 s, total: 23.8 s\n",
      "Wall time: 23.8 s\n"
     ]
    }
   ],
   "source": [
    "%%time\n",
    "fn2features = pd.read_pickle('data/fn2feature.pkl')"
   ]
  },
  {
   "cell_type": "code",
   "execution_count": 5,
   "metadata": {},
   "outputs": [
    {
     "name": "stdout",
     "output_type": "stream",
     "text": [
      "CPU times: user 2.87 s, sys: 0 ns, total: 2.87 s\n",
      "Wall time: 2.87 s\n"
     ]
    }
   ],
   "source": [
    "%%time\n",
    "fn2feature_length = {}\n",
    "\n",
    "for fn, feature in fn2features.items():\n",
    "    fn2feature_length[fn] = feature.shape[0]"
   ]
  },
  {
   "cell_type": "code",
   "execution_count": 6,
   "metadata": {},
   "outputs": [
    {
     "name": "stdout",
     "output_type": "stream",
     "text": [
      "CPU times: user 15.9 s, sys: 616 ms, total: 16.6 s\n",
      "Wall time: 16.6 s\n"
     ]
    }
   ],
   "source": [
    "%%time\n",
    "\n",
    "df['source_length'] = df.source_fn.apply(lambda fn: fn2feature_length[fn])\n",
    "df['target_length'] = df.target_fn.apply(lambda fn: fn2feature_length[fn])"
   ]
  },
  {
   "cell_type": "code",
   "execution_count": 7,
   "metadata": {},
   "outputs": [],
   "source": [
    "df.to_csv('data/examples_with_length.csv', index=False)"
   ]
  },
  {
   "cell_type": "code",
   "execution_count": 8,
   "metadata": {},
   "outputs": [
    {
     "data": {
      "text/plain": [
       "0.95829040853944"
      ]
     },
     "execution_count": 8,
     "metadata": {},
     "output_type": "execute_result"
    }
   ],
   "source": [
    "((df.source_length < 70) & (df.target_length < 70)).mean()"
   ]
  },
  {
   "cell_type": "code",
   "execution_count": 9,
   "metadata": {},
   "outputs": [
    {
     "data": {
      "text/plain": [
       "64763"
      ]
     },
     "execution_count": 9,
     "metadata": {},
     "output_type": "execute_result"
    }
   ],
   "source": [
    "df.source_word.nunique()"
   ]
  },
  {
   "cell_type": "code",
   "execution_count": 10,
   "metadata": {},
   "outputs": [
    {
     "data": {
      "text/plain": [
       "55687"
      ]
     },
     "execution_count": 10,
     "metadata": {},
     "output_type": "execute_result"
    }
   ],
   "source": [
    "df[((df.source_length < 70) & (df.target_length < 70))].source_word.nunique()"
   ]
  },
  {
   "cell_type": "code",
   "execution_count": 11,
   "metadata": {},
   "outputs": [
    {
     "data": {
      "text/html": [
       "<div>\n",
       "<style scoped>\n",
       "    .dataframe tbody tr th:only-of-type {\n",
       "        vertical-align: middle;\n",
       "    }\n",
       "\n",
       "    .dataframe tbody tr th {\n",
       "        vertical-align: top;\n",
       "    }\n",
       "\n",
       "    .dataframe thead th {\n",
       "        text-align: right;\n",
       "    }\n",
       "</style>\n",
       "<table border=\"1\" class=\"dataframe\">\n",
       "  <thead>\n",
       "    <tr style=\"text-align: right;\">\n",
       "      <th></th>\n",
       "      <th>source_word</th>\n",
       "      <th>target_word</th>\n",
       "      <th>source_fn</th>\n",
       "      <th>target_fn</th>\n",
       "      <th>set_name</th>\n",
       "      <th>speaker_id</th>\n",
       "      <th>book_id</th>\n",
       "      <th>distance_from_target</th>\n",
       "      <th>audio_fpath</th>\n",
       "      <th>source_length</th>\n",
       "      <th>target_length</th>\n",
       "    </tr>\n",
       "  </thead>\n",
       "  <tbody>\n",
       "    <tr>\n",
       "      <th>9556703</th>\n",
       "      <td>THREW</td>\n",
       "      <td>THE</td>\n",
       "      <td>1851781743f5452bb514b6b68dca6b58</td>\n",
       "      <td>0a387c5255c14cf581ca48ae2bb00c56</td>\n",
       "      <td>train-clean-360</td>\n",
       "      <td>7752</td>\n",
       "      <td>110522</td>\n",
       "      <td>2</td>\n",
       "      <td>data/LibriSpeech/train-clean-360/7752/110522/7752-110522-0028.flac</td>\n",
       "      <td>26</td>\n",
       "      <td>12</td>\n",
       "    </tr>\n",
       "    <tr>\n",
       "      <th>3573581</th>\n",
       "      <td>LAY</td>\n",
       "      <td>LATTER</td>\n",
       "      <td>f98b258034df4ed29beaccdbb9f5e1cb</td>\n",
       "      <td>556a2c62f13c493abb4cf00d1284e885</td>\n",
       "      <td>train-clean-360</td>\n",
       "      <td>3446</td>\n",
       "      <td>176270</td>\n",
       "      <td>2</td>\n",
       "      <td>data/LibriSpeech/train-clean-360/3446/176270/3446-176270-0039.flac</td>\n",
       "      <td>26</td>\n",
       "      <td>40</td>\n",
       "    </tr>\n",
       "    <tr>\n",
       "      <th>4780572</th>\n",
       "      <td>HER</td>\n",
       "      <td>SOON</td>\n",
       "      <td>27fc84bf397b4ff49aac1a38589b0a47</td>\n",
       "      <td>f1d0a4545f0b4524b2a7298d9501f566</td>\n",
       "      <td>train-clean-360</td>\n",
       "      <td>8776</td>\n",
       "      <td>270778</td>\n",
       "      <td>2</td>\n",
       "      <td>data/LibriSpeech/train-clean-360/8776/270778/8776-270778-0009.flac</td>\n",
       "      <td>26</td>\n",
       "      <td>29</td>\n",
       "    </tr>\n",
       "    <tr>\n",
       "      <th>6463180</th>\n",
       "      <td>OVER</td>\n",
       "      <td>THE</td>\n",
       "      <td>58622c8a52e44737a8b64fa6a350d5c5</td>\n",
       "      <td>a82c471a0a724c88bc22327f7061f669</td>\n",
       "      <td>train-clean-360</td>\n",
       "      <td>1066</td>\n",
       "      <td>103481</td>\n",
       "      <td>1</td>\n",
       "      <td>data/LibriSpeech/train-clean-360/1066/103481/1066-103481-0024.flac</td>\n",
       "      <td>26</td>\n",
       "      <td>9</td>\n",
       "    </tr>\n",
       "    <tr>\n",
       "      <th>10875612</th>\n",
       "      <td>AND</td>\n",
       "      <td>FIGURES</td>\n",
       "      <td>90fdf494668b443ca252b1813b0f811f</td>\n",
       "      <td>551e03c5a3ee4568b443a3f3c39a8a96</td>\n",
       "      <td>train-clean-360</td>\n",
       "      <td>1046</td>\n",
       "      <td>133225</td>\n",
       "      <td>1</td>\n",
       "      <td>data/LibriSpeech/train-clean-360/1046/133225/1046-133225-0060.flac</td>\n",
       "      <td>26</td>\n",
       "      <td>62</td>\n",
       "    </tr>\n",
       "    <tr>\n",
       "      <th>13086737</th>\n",
       "      <td>GOOD</td>\n",
       "      <td>BE</td>\n",
       "      <td>4b8198cf449244d49e89538d5b201940</td>\n",
       "      <td>61895b5ddcd94ec4b16df466c0a5163e</td>\n",
       "      <td>train-clean-100</td>\n",
       "      <td>5688</td>\n",
       "      <td>15787</td>\n",
       "      <td>2</td>\n",
       "      <td>data/LibriSpeech/train-clean-100/5688/15787/5688-15787-0034.flac</td>\n",
       "      <td>26</td>\n",
       "      <td>12</td>\n",
       "    </tr>\n",
       "    <tr>\n",
       "      <th>13086750</th>\n",
       "      <td>TOO</td>\n",
       "      <td>MUCH</td>\n",
       "      <td>199619243cac4c4dbc83ff65856597b6</td>\n",
       "      <td>31f01fca890b4e4085c6ac58644e6c76</td>\n",
       "      <td>train-clean-100</td>\n",
       "      <td>5688</td>\n",
       "      <td>15787</td>\n",
       "      <td>1</td>\n",
       "      <td>data/LibriSpeech/train-clean-100/5688/15787/5688-15787-0035.flac</td>\n",
       "      <td>26</td>\n",
       "      <td>27</td>\n",
       "    </tr>\n",
       "    <tr>\n",
       "      <th>706289</th>\n",
       "      <td>QUITE</td>\n",
       "      <td>KEEP</td>\n",
       "      <td>31c033526c8144e5ac29d04aa7bac46f</td>\n",
       "      <td>21cf3c5ea3724895ad3a846589e445a9</td>\n",
       "      <td>train-clean-360</td>\n",
       "      <td>8008</td>\n",
       "      <td>271817</td>\n",
       "      <td>2</td>\n",
       "      <td>data/LibriSpeech/train-clean-360/8008/271817/8008-271817-0020.flac</td>\n",
       "      <td>26</td>\n",
       "      <td>26</td>\n",
       "    </tr>\n",
       "    <tr>\n",
       "      <th>706281</th>\n",
       "      <td>KEEP</td>\n",
       "      <td>CAPTAIN</td>\n",
       "      <td>21cf3c5ea3724895ad3a846589e445a9</td>\n",
       "      <td>0ad2481f02a642d2905851686b9b9e84</td>\n",
       "      <td>train-clean-360</td>\n",
       "      <td>8008</td>\n",
       "      <td>271817</td>\n",
       "      <td>2</td>\n",
       "      <td>data/LibriSpeech/train-clean-360/8008/271817/8008-271817-0020.flac</td>\n",
       "      <td>26</td>\n",
       "      <td>43</td>\n",
       "    </tr>\n",
       "    <tr>\n",
       "      <th>10875506</th>\n",
       "      <td>ONE</td>\n",
       "      <td>EIGHTY</td>\n",
       "      <td>7db650a6c87942879ff22412f9dfc19e</td>\n",
       "      <td>094403ecb3754a61851e6ff14e711816</td>\n",
       "      <td>train-clean-360</td>\n",
       "      <td>1046</td>\n",
       "      <td>133225</td>\n",
       "      <td>1</td>\n",
       "      <td>data/LibriSpeech/train-clean-360/1046/133225/1046-133225-0058.flac</td>\n",
       "      <td>26</td>\n",
       "      <td>30</td>\n",
       "    </tr>\n",
       "    <tr>\n",
       "      <th>6463017</th>\n",
       "      <td>FLUNG</td>\n",
       "      <td>HOT</td>\n",
       "      <td>24cd3d73109844d6bfff65e8c0c19788</td>\n",
       "      <td>ae38b0411be5449aab428ca7802872f6</td>\n",
       "      <td>train-clean-360</td>\n",
       "      <td>1066</td>\n",
       "      <td>103481</td>\n",
       "      <td>2</td>\n",
       "      <td>data/LibriSpeech/train-clean-360/1066/103481/1066-103481-0022.flac</td>\n",
       "      <td>26</td>\n",
       "      <td>32</td>\n",
       "    </tr>\n",
       "    <tr>\n",
       "      <th>3573448</th>\n",
       "      <td>COUNT</td>\n",
       "      <td>THE</td>\n",
       "      <td>5ee18d90e9bd404699a74aab0be21048</td>\n",
       "      <td>ecc7bdb69c714293befc7b85e612bfb7</td>\n",
       "      <td>train-clean-360</td>\n",
       "      <td>3446</td>\n",
       "      <td>176270</td>\n",
       "      <td>1</td>\n",
       "      <td>data/LibriSpeech/train-clean-360/3446/176270/3446-176270-0038.flac</td>\n",
       "      <td>26</td>\n",
       "      <td>12</td>\n",
       "    </tr>\n",
       "    <tr>\n",
       "      <th>706441</th>\n",
       "      <td>SAID</td>\n",
       "      <td>I</td>\n",
       "      <td>34ae912c58674c1db2ee195854731c10</td>\n",
       "      <td>024f5a0e2a914722b6222e82dcea4d8c</td>\n",
       "      <td>train-clean-360</td>\n",
       "      <td>8008</td>\n",
       "      <td>271817</td>\n",
       "      <td>2</td>\n",
       "      <td>data/LibriSpeech/train-clean-360/8008/271817/8008-271817-0022.flac</td>\n",
       "      <td>26</td>\n",
       "      <td>21</td>\n",
       "    </tr>\n",
       "    <tr>\n",
       "      <th>6462962</th>\n",
       "      <td>US</td>\n",
       "      <td>HOLDING</td>\n",
       "      <td>f7c03e22cac8425f8d3ef2ce9d48a01c</td>\n",
       "      <td>8e7040fcc32048a8863d2cb736febdc1</td>\n",
       "      <td>train-clean-360</td>\n",
       "      <td>1066</td>\n",
       "      <td>103481</td>\n",
       "      <td>1</td>\n",
       "      <td>data/LibriSpeech/train-clean-360/1066/103481/1066-103481-0021.flac</td>\n",
       "      <td>26</td>\n",
       "      <td>36</td>\n",
       "    </tr>\n",
       "    <tr>\n",
       "      <th>10875337</th>\n",
       "      <td>THAT</td>\n",
       "      <td>RECENTLY</td>\n",
       "      <td>1f9a9d6389ba46efa46caed25c92a3a6</td>\n",
       "      <td>8e2743a51a5e47fdaa1e23c057c63d5a</td>\n",
       "      <td>train-clean-360</td>\n",
       "      <td>1046</td>\n",
       "      <td>133225</td>\n",
       "      <td>2</td>\n",
       "      <td>data/LibriSpeech/train-clean-360/1046/133225/1046-133225-0057.flac</td>\n",
       "      <td>26</td>\n",
       "      <td>46</td>\n",
       "    </tr>\n",
       "    <tr>\n",
       "      <th>13087063</th>\n",
       "      <td>INTO</td>\n",
       "      <td>AND</td>\n",
       "      <td>f7b2a55fc0af4a699b7ae59438d53f27</td>\n",
       "      <td>117f3d5931774e069487493c4dc9c363</td>\n",
       "      <td>train-clean-100</td>\n",
       "      <td>5688</td>\n",
       "      <td>15787</td>\n",
       "      <td>2</td>\n",
       "      <td>data/LibriSpeech/train-clean-100/5688/15787/5688-15787-0037.flac</td>\n",
       "      <td>26</td>\n",
       "      <td>15</td>\n",
       "    </tr>\n",
       "    <tr>\n",
       "      <th>13087085</th>\n",
       "      <td>PLUMBER</td>\n",
       "      <td>ARRANGED</td>\n",
       "      <td>b80ccb609ddf4d3eba26671907dab55f</td>\n",
       "      <td>7cab367ac03b4679a3fafc38db064378</td>\n",
       "      <td>train-clean-100</td>\n",
       "      <td>5688</td>\n",
       "      <td>15787</td>\n",
       "      <td>2</td>\n",
       "      <td>data/LibriSpeech/train-clean-100/5688/15787/5688-15787-0038.flac</td>\n",
       "      <td>26</td>\n",
       "      <td>41</td>\n",
       "    </tr>\n",
       "    <tr>\n",
       "      <th>3573277</th>\n",
       "      <td>SEEMED</td>\n",
       "      <td>IT</td>\n",
       "      <td>3d8cd631e6d940b08278953f69c49c2b</td>\n",
       "      <td>10c215e7d0774e57a953ea4a7ccca074</td>\n",
       "      <td>train-clean-360</td>\n",
       "      <td>3446</td>\n",
       "      <td>176270</td>\n",
       "      <td>2</td>\n",
       "      <td>data/LibriSpeech/train-clean-360/3446/176270/3446-176270-0037.flac</td>\n",
       "      <td>26</td>\n",
       "      <td>18</td>\n",
       "    </tr>\n",
       "    <tr>\n",
       "      <th>6462754</th>\n",
       "      <td>BLACK</td>\n",
       "      <td>STRONG</td>\n",
       "      <td>b073a839b42c4b6e8e0f493d52169e71</td>\n",
       "      <td>9bd8b85ac7f7493c993bd8bd47f7c84d</td>\n",
       "      <td>train-clean-360</td>\n",
       "      <td>1066</td>\n",
       "      <td>103481</td>\n",
       "      <td>1</td>\n",
       "      <td>data/LibriSpeech/train-clean-360/1066/103481/1066-103481-0019.flac</td>\n",
       "      <td>26</td>\n",
       "      <td>46</td>\n",
       "    </tr>\n",
       "    <tr>\n",
       "      <th>10875144</th>\n",
       "      <td>IS</td>\n",
       "      <td>TO</td>\n",
       "      <td>2a0b9943b1b44b93998cf5c9411faa79</td>\n",
       "      <td>1e983242c6534928a06abdf9c12159a1</td>\n",
       "      <td>train-clean-360</td>\n",
       "      <td>1046</td>\n",
       "      <td>133225</td>\n",
       "      <td>1</td>\n",
       "      <td>data/LibriSpeech/train-clean-360/1046/133225/1046-133225-0055.flac</td>\n",
       "      <td>26</td>\n",
       "      <td>10</td>\n",
       "    </tr>\n",
       "  </tbody>\n",
       "</table>\n",
       "</div>"
      ],
      "text/plain": [
       "         source_word target_word                         source_fn  \\\n",
       "9556703        THREW         THE  1851781743f5452bb514b6b68dca6b58   \n",
       "3573581          LAY      LATTER  f98b258034df4ed29beaccdbb9f5e1cb   \n",
       "4780572          HER        SOON  27fc84bf397b4ff49aac1a38589b0a47   \n",
       "6463180         OVER         THE  58622c8a52e44737a8b64fa6a350d5c5   \n",
       "10875612         AND     FIGURES  90fdf494668b443ca252b1813b0f811f   \n",
       "13086737        GOOD          BE  4b8198cf449244d49e89538d5b201940   \n",
       "13086750         TOO        MUCH  199619243cac4c4dbc83ff65856597b6   \n",
       "706289         QUITE        KEEP  31c033526c8144e5ac29d04aa7bac46f   \n",
       "706281          KEEP     CAPTAIN  21cf3c5ea3724895ad3a846589e445a9   \n",
       "10875506         ONE      EIGHTY  7db650a6c87942879ff22412f9dfc19e   \n",
       "6463017        FLUNG         HOT  24cd3d73109844d6bfff65e8c0c19788   \n",
       "3573448        COUNT         THE  5ee18d90e9bd404699a74aab0be21048   \n",
       "706441          SAID           I  34ae912c58674c1db2ee195854731c10   \n",
       "6462962           US     HOLDING  f7c03e22cac8425f8d3ef2ce9d48a01c   \n",
       "10875337        THAT    RECENTLY  1f9a9d6389ba46efa46caed25c92a3a6   \n",
       "13087063        INTO         AND  f7b2a55fc0af4a699b7ae59438d53f27   \n",
       "13087085     PLUMBER    ARRANGED  b80ccb609ddf4d3eba26671907dab55f   \n",
       "3573277       SEEMED          IT  3d8cd631e6d940b08278953f69c49c2b   \n",
       "6462754        BLACK      STRONG  b073a839b42c4b6e8e0f493d52169e71   \n",
       "10875144          IS          TO  2a0b9943b1b44b93998cf5c9411faa79   \n",
       "\n",
       "                                 target_fn         set_name  speaker_id  \\\n",
       "9556703   0a387c5255c14cf581ca48ae2bb00c56  train-clean-360        7752   \n",
       "3573581   556a2c62f13c493abb4cf00d1284e885  train-clean-360        3446   \n",
       "4780572   f1d0a4545f0b4524b2a7298d9501f566  train-clean-360        8776   \n",
       "6463180   a82c471a0a724c88bc22327f7061f669  train-clean-360        1066   \n",
       "10875612  551e03c5a3ee4568b443a3f3c39a8a96  train-clean-360        1046   \n",
       "13086737  61895b5ddcd94ec4b16df466c0a5163e  train-clean-100        5688   \n",
       "13086750  31f01fca890b4e4085c6ac58644e6c76  train-clean-100        5688   \n",
       "706289    21cf3c5ea3724895ad3a846589e445a9  train-clean-360        8008   \n",
       "706281    0ad2481f02a642d2905851686b9b9e84  train-clean-360        8008   \n",
       "10875506  094403ecb3754a61851e6ff14e711816  train-clean-360        1046   \n",
       "6463017   ae38b0411be5449aab428ca7802872f6  train-clean-360        1066   \n",
       "3573448   ecc7bdb69c714293befc7b85e612bfb7  train-clean-360        3446   \n",
       "706441    024f5a0e2a914722b6222e82dcea4d8c  train-clean-360        8008   \n",
       "6462962   8e7040fcc32048a8863d2cb736febdc1  train-clean-360        1066   \n",
       "10875337  8e2743a51a5e47fdaa1e23c057c63d5a  train-clean-360        1046   \n",
       "13087063  117f3d5931774e069487493c4dc9c363  train-clean-100        5688   \n",
       "13087085  7cab367ac03b4679a3fafc38db064378  train-clean-100        5688   \n",
       "3573277   10c215e7d0774e57a953ea4a7ccca074  train-clean-360        3446   \n",
       "6462754   9bd8b85ac7f7493c993bd8bd47f7c84d  train-clean-360        1066   \n",
       "10875144  1e983242c6534928a06abdf9c12159a1  train-clean-360        1046   \n",
       "\n",
       "          book_id  distance_from_target  \\\n",
       "9556703    110522                     2   \n",
       "3573581    176270                     2   \n",
       "4780572    270778                     2   \n",
       "6463180    103481                     1   \n",
       "10875612   133225                     1   \n",
       "13086737    15787                     2   \n",
       "13086750    15787                     1   \n",
       "706289     271817                     2   \n",
       "706281     271817                     2   \n",
       "10875506   133225                     1   \n",
       "6463017    103481                     2   \n",
       "3573448    176270                     1   \n",
       "706441     271817                     2   \n",
       "6462962    103481                     1   \n",
       "10875337   133225                     2   \n",
       "13087063    15787                     2   \n",
       "13087085    15787                     2   \n",
       "3573277    176270                     2   \n",
       "6462754    103481                     1   \n",
       "10875144   133225                     1   \n",
       "\n",
       "                                                                 audio_fpath  \\\n",
       "9556703   data/LibriSpeech/train-clean-360/7752/110522/7752-110522-0028.flac   \n",
       "3573581   data/LibriSpeech/train-clean-360/3446/176270/3446-176270-0039.flac   \n",
       "4780572   data/LibriSpeech/train-clean-360/8776/270778/8776-270778-0009.flac   \n",
       "6463180   data/LibriSpeech/train-clean-360/1066/103481/1066-103481-0024.flac   \n",
       "10875612  data/LibriSpeech/train-clean-360/1046/133225/1046-133225-0060.flac   \n",
       "13086737    data/LibriSpeech/train-clean-100/5688/15787/5688-15787-0034.flac   \n",
       "13086750    data/LibriSpeech/train-clean-100/5688/15787/5688-15787-0035.flac   \n",
       "706289    data/LibriSpeech/train-clean-360/8008/271817/8008-271817-0020.flac   \n",
       "706281    data/LibriSpeech/train-clean-360/8008/271817/8008-271817-0020.flac   \n",
       "10875506  data/LibriSpeech/train-clean-360/1046/133225/1046-133225-0058.flac   \n",
       "6463017   data/LibriSpeech/train-clean-360/1066/103481/1066-103481-0022.flac   \n",
       "3573448   data/LibriSpeech/train-clean-360/3446/176270/3446-176270-0038.flac   \n",
       "706441    data/LibriSpeech/train-clean-360/8008/271817/8008-271817-0022.flac   \n",
       "6462962   data/LibriSpeech/train-clean-360/1066/103481/1066-103481-0021.flac   \n",
       "10875337  data/LibriSpeech/train-clean-360/1046/133225/1046-133225-0057.flac   \n",
       "13087063    data/LibriSpeech/train-clean-100/5688/15787/5688-15787-0037.flac   \n",
       "13087085    data/LibriSpeech/train-clean-100/5688/15787/5688-15787-0038.flac   \n",
       "3573277   data/LibriSpeech/train-clean-360/3446/176270/3446-176270-0037.flac   \n",
       "6462754   data/LibriSpeech/train-clean-360/1066/103481/1066-103481-0019.flac   \n",
       "10875144  data/LibriSpeech/train-clean-360/1046/133225/1046-133225-0055.flac   \n",
       "\n",
       "          source_length  target_length  \n",
       "9556703              26             12  \n",
       "3573581              26             40  \n",
       "4780572              26             29  \n",
       "6463180              26              9  \n",
       "10875612             26             62  \n",
       "13086737             26             12  \n",
       "13086750             26             27  \n",
       "706289               26             26  \n",
       "706281               26             43  \n",
       "10875506             26             30  \n",
       "6463017              26             32  \n",
       "3573448              26             12  \n",
       "706441               26             21  \n",
       "6462962              26             36  \n",
       "10875337             26             46  \n",
       "13087063             26             15  \n",
       "13087085             26             41  \n",
       "3573277              26             18  \n",
       "6462754              26             46  \n",
       "10875144             26             10  "
      ]
     },
     "execution_count": 11,
     "metadata": {},
     "output_type": "execute_result"
    }
   ],
   "source": [
    "df[((df.source_length < 70) & (df.target_length < 70) & (df.source_length > 25))].drop_duplicates(subset='source_fn').sort_values('source_length', ascending=True).head(20)"
   ]
  },
  {
   "cell_type": "code",
   "execution_count": 12,
   "metadata": {},
   "outputs": [],
   "source": [
    "from IPython.lib.display import Audio"
   ]
  },
  {
   "cell_type": "code",
   "execution_count": 14,
   "metadata": {},
   "outputs": [
    {
     "data": {
      "text/html": [
       "\n",
       "                <audio  controls=\"controls\" >\n",
       "                    <source src=\"data:audio/x-wav;base64,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\" type=\"audio/x-wav\" />\n",
       "                    Your browser does not support the audio element.\n",
       "                </audio>\n",
       "              "
      ],
      "text/plain": [
       "<IPython.lib.display.Audio object>"
      ]
     },
     "execution_count": 14,
     "metadata": {},
     "output_type": "execute_result"
    }
   ],
   "source": [
    "Audio(filename='data/examples_audio/1e983242c6534928a06abdf9c12159a1.wav')"
   ]
  },
  {
   "cell_type": "code",
   "execution_count": 15,
   "metadata": {},
   "outputs": [
    {
     "data": {
      "text/plain": [
       "55463"
      ]
     },
     "execution_count": 15,
     "metadata": {},
     "output_type": "execute_result"
    }
   ],
   "source": [
    "df[((df.source_length < 70) & (df.target_length < 70) & (df.source_length > 20))].source_word.nunique()"
   ]
  }
 ],
 "metadata": {
  "kernelspec": {
   "display_name": "Python 3",
   "language": "python",
   "name": "python3"
  },
  "language_info": {
   "codemirror_mode": {
    "name": "ipython",
    "version": 3
   },
   "file_extension": ".py",
   "mimetype": "text/x-python",
   "name": "python",
   "nbconvert_exporter": "python",
   "pygments_lexer": "ipython3",
   "version": "3.7.6"
  }
 },
 "nbformat": 4,
 "nbformat_minor": 4
}
